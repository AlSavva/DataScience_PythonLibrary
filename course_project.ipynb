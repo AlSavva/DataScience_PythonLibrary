{
 "cells": [
  {
   "cell_type": "markdown",
   "metadata": {
    "papermill": {
     "duration": 0.033469,
     "end_time": "2021-02-05T16:30:28.189585",
     "exception": false,
     "start_time": "2021-02-05T16:30:28.156116",
     "status": "completed"
    },
    "tags": []
   },
   "source": [
    "## <center>Курсовой проект для курса \"Библиотеки Python для Data Science\"\n",
    "### Задание:\n",
    "Используя данные из обучающего датасета (train.csv), построить модель для предсказания цен на недвижимость (квартиры). С помощью полученной модели, предсказать цены для квартир из тестового датасета (test.csv).\n",
    "### Целевая переменная:\n",
    "Price\n",
    "### Метрика качества:\n",
    "R2 - коэффициент детерминации (sklearn.metrics.r2_score)    \n",
    "$$ \\ R^2 = 1 - \\frac{\\sigma^2}{\\sigma_y^2} $$\n",
    "### Описание датасета:\n",
    "Id - идентификационный номер квартиры\n",
    "    \n",
    "DistrictId - идентификационный номер района\n",
    "    \n",
    "Rooms - количество комнат\n",
    "    \n",
    "Square - площадь\n",
    "    \n",
    "LifeSquare - жилая площадь\n",
    "    \n",
    "KitchenSquare - площадь кухни\n",
    "    \n",
    "Floor - этаж\n",
    "    \n",
    "HouseFloor - количество этажей в доме\n",
    "    \n",
    "HouseYear - год постройки дома\n",
    "    \n",
    "Ecology_1, Ecology_2, Ecology_3 - экологические показатели местности\n",
    "    \n",
    "Social_1, Social_2, Social_3 - социальные показатели местности\n",
    "    \n",
    "Healthcare_1, Helthcare_2 - показатели местности, связанные с охраной здоровья\n",
    "    \n",
    "Shops_1, Shops_2 - показатели, связанные с наличием магазинов, торговых центров\n",
    "    \n",
    "Price - цена квартиры"
   ]
  },
  {
   "cell_type": "markdown",
   "metadata": {
    "papermill": {
     "duration": 0.03211,
     "end_time": "2021-02-05T16:30:28.255040",
     "exception": false,
     "start_time": "2021-02-05T16:30:28.222930",
     "status": "completed"
    },
    "tags": []
   },
   "source": [
    "Подгружаем необходимые библиотеки:"
   ]
  },
  {
   "cell_type": "code",
   "execution_count": 1,
   "metadata": {
    "execution": {
     "iopub.execute_input": "2021-02-05T16:30:28.327432Z",
     "iopub.status.busy": "2021-02-05T16:30:28.326646Z",
     "iopub.status.idle": "2021-02-05T16:30:29.668538Z",
     "shell.execute_reply": "2021-02-05T16:30:29.669086Z"
    },
    "papermill": {
     "duration": 1.382126,
     "end_time": "2021-02-05T16:30:29.669451",
     "exception": false,
     "start_time": "2021-02-05T16:30:28.287325",
     "status": "completed"
    },
    "tags": []
   },
   "outputs": [],
   "source": [
    "import numpy as np\n",
    "import pandas as pd\n",
    "import matplotlib.pyplot as plt\n",
    "import seaborn as sns\n",
    "import datetime\n",
    "from sklearn.ensemble import GradientBoostingRegressor\n",
    "\n",
    "%matplotlib inline"
   ]
  },
  {
   "cell_type": "markdown",
   "metadata": {
    "papermill": {
     "duration": 0.033851,
     "end_time": "2021-02-05T16:30:29.736052",
     "exception": false,
     "start_time": "2021-02-05T16:30:29.702201",
     "status": "completed"
    },
    "tags": []
   },
   "source": [
    "### 1. Загружаем данные:"
   ]
  },
  {
   "cell_type": "code",
   "execution_count": 2,
   "metadata": {
    "execution": {
     "iopub.execute_input": "2021-02-05T16:30:29.806271Z",
     "iopub.status.busy": "2021-02-05T16:30:29.805401Z",
     "iopub.status.idle": "2021-02-05T16:30:29.916814Z",
     "shell.execute_reply": "2021-02-05T16:30:29.916069Z"
    },
    "papermill": {
     "duration": 0.148965,
     "end_time": "2021-02-05T16:30:29.916964",
     "exception": false,
     "start_time": "2021-02-05T16:30:29.767999",
     "status": "completed"
    },
    "tags": []
   },
   "outputs": [],
   "source": [
    "DATA_TRAIN_PATH='/kaggle/input/realestatepriceprediction/train.csv'\n",
    "DATA_TEST_PATH='/kaggle/input/realestatepriceprediction/test.csv'\n",
    "RESULT_PATH='./predictions.csv'\n",
    "data=pd.read_csv(DATA_TRAIN_PATH)\n",
    "X_test=pd.read_csv(DATA_TEST_PATH)"
   ]
  },
  {
   "cell_type": "markdown",
   "metadata": {
    "papermill": {
     "duration": 0.032471,
     "end_time": "2021-02-05T16:30:29.981933",
     "exception": false,
     "start_time": "2021-02-05T16:30:29.949462",
     "status": "completed"
    },
    "tags": []
   },
   "source": [
    "### 2. Анализ датасета"
   ]
  },
  {
   "cell_type": "code",
   "execution_count": 3,
   "metadata": {
    "execution": {
     "iopub.execute_input": "2021-02-05T16:30:30.051434Z",
     "iopub.status.busy": "2021-02-05T16:30:30.050773Z",
     "iopub.status.idle": "2021-02-05T16:30:30.057339Z",
     "shell.execute_reply": "2021-02-05T16:30:30.056728Z"
    },
    "papermill": {
     "duration": 0.042942,
     "end_time": "2021-02-05T16:30:30.057482",
     "exception": false,
     "start_time": "2021-02-05T16:30:30.014540",
     "status": "completed"
    },
    "tags": []
   },
   "outputs": [],
   "source": [
    "df=data.copy()"
   ]
  },
  {
   "cell_type": "code",
   "execution_count": 4,
   "metadata": {
    "execution": {
     "iopub.execute_input": "2021-02-05T16:30:30.149288Z",
     "iopub.status.busy": "2021-02-05T16:30:30.144943Z",
     "iopub.status.idle": "2021-02-05T16:30:30.171932Z",
     "shell.execute_reply": "2021-02-05T16:30:30.172674Z"
    },
    "papermill": {
     "duration": 0.082279,
     "end_time": "2021-02-05T16:30:30.172923",
     "exception": false,
     "start_time": "2021-02-05T16:30:30.090644",
     "status": "completed"
    },
    "tags": []
   },
   "outputs": [
    {
     "name": "stdout",
     "output_type": "stream",
     "text": [
      "<class 'pandas.core.frame.DataFrame'>\n",
      "RangeIndex: 10000 entries, 0 to 9999\n",
      "Data columns (total 20 columns):\n",
      " #   Column         Non-Null Count  Dtype  \n",
      "---  ------         --------------  -----  \n",
      " 0   Id             10000 non-null  int64  \n",
      " 1   DistrictId     10000 non-null  int64  \n",
      " 2   Rooms          10000 non-null  float64\n",
      " 3   Square         10000 non-null  float64\n",
      " 4   LifeSquare     7887 non-null   float64\n",
      " 5   KitchenSquare  10000 non-null  float64\n",
      " 6   Floor          10000 non-null  int64  \n",
      " 7   HouseFloor     10000 non-null  float64\n",
      " 8   HouseYear      10000 non-null  int64  \n",
      " 9   Ecology_1      10000 non-null  float64\n",
      " 10  Ecology_2      10000 non-null  object \n",
      " 11  Ecology_3      10000 non-null  object \n",
      " 12  Social_1       10000 non-null  int64  \n",
      " 13  Social_2       10000 non-null  int64  \n",
      " 14  Social_3       10000 non-null  int64  \n",
      " 15  Healthcare_1   5202 non-null   float64\n",
      " 16  Helthcare_2    10000 non-null  int64  \n",
      " 17  Shops_1        10000 non-null  int64  \n",
      " 18  Shops_2        10000 non-null  object \n",
      " 19  Price          10000 non-null  float64\n",
      "dtypes: float64(8), int64(9), object(3)\n",
      "memory usage: 1.5+ MB\n"
     ]
    }
   ],
   "source": [
    "df.info()"
   ]
  },
  {
   "cell_type": "markdown",
   "metadata": {
    "papermill": {
     "duration": 0.037001,
     "end_time": "2021-02-05T16:30:30.250531",
     "exception": false,
     "start_time": "2021-02-05T16:30:30.213530",
     "status": "completed"
    },
    "tags": []
   },
   "source": [
    "В тренировочном датасете 10000 строк и 19 столбцов.<br>\n",
    "Видим, что признаки LifeSquare и Healthcare_1 имеют пропуски. Необходимо будет принять решение, каким образом их обрабатывать.<br>\n",
    "Так же видим нечисловые признаки: Ecology_2, Ecology_3, Shops_2.<br>\n",
    "Кроме того, DistrictId и Id нужно отнести к категориальным признакам."
   ]
  },
  {
   "cell_type": "code",
   "execution_count": 5,
   "metadata": {
    "execution": {
     "iopub.execute_input": "2021-02-05T16:30:30.322556Z",
     "iopub.status.busy": "2021-02-05T16:30:30.321835Z",
     "iopub.status.idle": "2021-02-05T16:30:30.344572Z",
     "shell.execute_reply": "2021-02-05T16:30:30.345071Z"
    },
    "papermill": {
     "duration": 0.062199,
     "end_time": "2021-02-05T16:30:30.345277",
     "exception": false,
     "start_time": "2021-02-05T16:30:30.283078",
     "status": "completed"
    },
    "tags": []
   },
   "outputs": [
    {
     "name": "stdout",
     "output_type": "stream",
     "text": [
      "<class 'pandas.core.frame.DataFrame'>\n",
      "RangeIndex: 10000 entries, 0 to 9999\n",
      "Data columns (total 20 columns):\n",
      " #   Column         Non-Null Count  Dtype  \n",
      "---  ------         --------------  -----  \n",
      " 0   Id             10000 non-null  object \n",
      " 1   DistrictId     10000 non-null  object \n",
      " 2   Rooms          10000 non-null  float64\n",
      " 3   Square         10000 non-null  float64\n",
      " 4   LifeSquare     7887 non-null   float64\n",
      " 5   KitchenSquare  10000 non-null  float64\n",
      " 6   Floor          10000 non-null  int64  \n",
      " 7   HouseFloor     10000 non-null  float64\n",
      " 8   HouseYear      10000 non-null  int64  \n",
      " 9   Ecology_1      10000 non-null  float64\n",
      " 10  Ecology_2      10000 non-null  object \n",
      " 11  Ecology_3      10000 non-null  object \n",
      " 12  Social_1       10000 non-null  int64  \n",
      " 13  Social_2       10000 non-null  int64  \n",
      " 14  Social_3       10000 non-null  int64  \n",
      " 15  Healthcare_1   5202 non-null   float64\n",
      " 16  Helthcare_2    10000 non-null  int64  \n",
      " 17  Shops_1        10000 non-null  int64  \n",
      " 18  Shops_2        10000 non-null  object \n",
      " 19  Price          10000 non-null  float64\n",
      "dtypes: float64(8), int64(7), object(5)\n",
      "memory usage: 1.5+ MB\n"
     ]
    }
   ],
   "source": [
    "df.DistrictId=df.DistrictId.astype('object')\n",
    "df.Id=df.Id.astype('object')\n",
    "df.info()"
   ]
  },
  {
   "cell_type": "markdown",
   "metadata": {
    "papermill": {
     "duration": 0.033774,
     "end_time": "2021-02-05T16:30:30.413187",
     "exception": false,
     "start_time": "2021-02-05T16:30:30.379413",
     "status": "completed"
    },
    "tags": []
   },
   "source": [
    "Взглянем на числовые признаки:"
   ]
  },
  {
   "cell_type": "code",
   "execution_count": 6,
   "metadata": {
    "execution": {
     "iopub.execute_input": "2021-02-05T16:30:30.488518Z",
     "iopub.status.busy": "2021-02-05T16:30:30.487787Z",
     "iopub.status.idle": "2021-02-05T16:30:33.242300Z",
     "shell.execute_reply": "2021-02-05T16:30:33.241767Z"
    },
    "papermill": {
     "duration": 2.79533,
     "end_time": "2021-02-05T16:30:33.242455",
     "exception": false,
     "start_time": "2021-02-05T16:30:30.447125",
     "status": "completed"
    },
    "tags": []
   },
   "outputs": [
    {
     "data": {
      "image/png": "[encoded data removed]",
      "text/plain": [
       "<Figure size 1296x864 with 16 Axes>"
      ]
     },
     "metadata": {
      "needs_background": "light"
     },
     "output_type": "display_data"
    }
   ],
   "source": [
    "digital_features=df.select_dtypes(exclude=['object'])\n",
    "digital_features.hist(figsize=(18,12), bins=30)\n",
    "plt.show()"
   ]
  },
  {
   "cell_type": "markdown",
   "metadata": {
    "papermill": {
     "duration": 0.034897,
     "end_time": "2021-02-05T16:30:33.312845",
     "exception": false,
     "start_time": "2021-02-05T16:30:33.277948",
     "status": "completed"
    },
    "tags": []
   },
   "source": [
    "Явно заметно наличие выбросов в количестве комнат, площадях, годах постройки дома.<br>\n",
    "Helthcare_2 - скорее относится к категориальным признакам.<br>\n",
    "Показатели местности Social, и Shops интерпретировать трудно."
   ]
  },
  {
   "cell_type": "code",
   "execution_count": 7,
   "metadata": {
    "execution": {
     "iopub.execute_input": "2021-02-05T16:30:33.389223Z",
     "iopub.status.busy": "2021-02-05T16:30:33.388536Z",
     "iopub.status.idle": "2021-02-05T16:30:33.456998Z",
     "shell.execute_reply": "2021-02-05T16:30:33.456417Z"
    },
    "papermill": {
     "duration": 0.10866,
     "end_time": "2021-02-05T16:30:33.457143",
     "exception": false,
     "start_time": "2021-02-05T16:30:33.348483",
     "status": "completed"
    },
    "tags": []
   },
   "outputs": [
    {
     "data": {
      "text/html": [
       "<div>\n",
       "<style scoped>\n",
       "    .dataframe tbody tr th:only-of-type {\n",
       "        vertical-align: middle;\n",
       "    }\n",
       "\n",
       "    .dataframe tbody tr th {\n",
       "        vertical-align: top;\n",
       "    }\n",
       "\n",
       "    .dataframe thead th {\n",
       "        text-align: right;\n",
       "    }\n",
       "</style>\n",
       "<table border=\"1\" class=\"dataframe\">\n",
       "  <thead>\n",
       "    <tr style=\"text-align: right;\">\n",
       "      <th></th>\n",
       "      <th>Rooms</th>\n",
       "      <th>Square</th>\n",
       "      <th>LifeSquare</th>\n",
       "      <th>KitchenSquare</th>\n",
       "      <th>Floor</th>\n",
       "      <th>HouseFloor</th>\n",
       "      <th>HouseYear</th>\n",
       "      <th>Ecology_1</th>\n",
       "      <th>Social_1</th>\n",
       "      <th>Social_2</th>\n",
       "      <th>Social_3</th>\n",
       "      <th>Healthcare_1</th>\n",
       "      <th>Helthcare_2</th>\n",
       "      <th>Shops_1</th>\n",
       "      <th>Price</th>\n",
       "    </tr>\n",
       "  </thead>\n",
       "  <tbody>\n",
       "    <tr>\n",
       "      <th>count</th>\n",
       "      <td>10000.000000</td>\n",
       "      <td>10000.000000</td>\n",
       "      <td>7887.000000</td>\n",
       "      <td>10000.000000</td>\n",
       "      <td>10000.000000</td>\n",
       "      <td>10000.000000</td>\n",
       "      <td>1.000000e+04</td>\n",
       "      <td>10000.000000</td>\n",
       "      <td>10000.000000</td>\n",
       "      <td>10000.000000</td>\n",
       "      <td>10000.000000</td>\n",
       "      <td>5202.000000</td>\n",
       "      <td>10000.000000</td>\n",
       "      <td>10000.000000</td>\n",
       "      <td>10000.000000</td>\n",
       "    </tr>\n",
       "    <tr>\n",
       "      <th>mean</th>\n",
       "      <td>1.890500</td>\n",
       "      <td>56.315775</td>\n",
       "      <td>37.199645</td>\n",
       "      <td>6.273300</td>\n",
       "      <td>8.526700</td>\n",
       "      <td>12.609400</td>\n",
       "      <td>3.990166e+03</td>\n",
       "      <td>0.118858</td>\n",
       "      <td>24.687000</td>\n",
       "      <td>5352.157400</td>\n",
       "      <td>8.039200</td>\n",
       "      <td>1142.904460</td>\n",
       "      <td>1.319500</td>\n",
       "      <td>4.231300</td>\n",
       "      <td>214138.857399</td>\n",
       "    </tr>\n",
       "    <tr>\n",
       "      <th>std</th>\n",
       "      <td>0.839512</td>\n",
       "      <td>21.058732</td>\n",
       "      <td>86.241209</td>\n",
       "      <td>28.560917</td>\n",
       "      <td>5.241148</td>\n",
       "      <td>6.775974</td>\n",
       "      <td>2.005003e+05</td>\n",
       "      <td>0.119025</td>\n",
       "      <td>17.532614</td>\n",
       "      <td>4006.799803</td>\n",
       "      <td>23.831875</td>\n",
       "      <td>1021.517264</td>\n",
       "      <td>1.493601</td>\n",
       "      <td>4.806341</td>\n",
       "      <td>92872.293865</td>\n",
       "    </tr>\n",
       "    <tr>\n",
       "      <th>min</th>\n",
       "      <td>0.000000</td>\n",
       "      <td>1.136859</td>\n",
       "      <td>0.370619</td>\n",
       "      <td>0.000000</td>\n",
       "      <td>1.000000</td>\n",
       "      <td>0.000000</td>\n",
       "      <td>1.910000e+03</td>\n",
       "      <td>0.000000</td>\n",
       "      <td>0.000000</td>\n",
       "      <td>168.000000</td>\n",
       "      <td>0.000000</td>\n",
       "      <td>0.000000</td>\n",
       "      <td>0.000000</td>\n",
       "      <td>0.000000</td>\n",
       "      <td>59174.778028</td>\n",
       "    </tr>\n",
       "    <tr>\n",
       "      <th>25%</th>\n",
       "      <td>1.000000</td>\n",
       "      <td>41.774881</td>\n",
       "      <td>22.769832</td>\n",
       "      <td>1.000000</td>\n",
       "      <td>4.000000</td>\n",
       "      <td>9.000000</td>\n",
       "      <td>1.974000e+03</td>\n",
       "      <td>0.017647</td>\n",
       "      <td>6.000000</td>\n",
       "      <td>1564.000000</td>\n",
       "      <td>0.000000</td>\n",
       "      <td>350.000000</td>\n",
       "      <td>0.000000</td>\n",
       "      <td>1.000000</td>\n",
       "      <td>153872.633942</td>\n",
       "    </tr>\n",
       "    <tr>\n",
       "      <th>50%</th>\n",
       "      <td>2.000000</td>\n",
       "      <td>52.513310</td>\n",
       "      <td>32.781260</td>\n",
       "      <td>6.000000</td>\n",
       "      <td>7.000000</td>\n",
       "      <td>13.000000</td>\n",
       "      <td>1.977000e+03</td>\n",
       "      <td>0.075424</td>\n",
       "      <td>25.000000</td>\n",
       "      <td>5285.000000</td>\n",
       "      <td>2.000000</td>\n",
       "      <td>900.000000</td>\n",
       "      <td>1.000000</td>\n",
       "      <td>3.000000</td>\n",
       "      <td>192269.644879</td>\n",
       "    </tr>\n",
       "    <tr>\n",
       "      <th>75%</th>\n",
       "      <td>2.000000</td>\n",
       "      <td>65.900625</td>\n",
       "      <td>45.128803</td>\n",
       "      <td>9.000000</td>\n",
       "      <td>12.000000</td>\n",
       "      <td>17.000000</td>\n",
       "      <td>2.001000e+03</td>\n",
       "      <td>0.195781</td>\n",
       "      <td>36.000000</td>\n",
       "      <td>7227.000000</td>\n",
       "      <td>5.000000</td>\n",
       "      <td>1548.000000</td>\n",
       "      <td>2.000000</td>\n",
       "      <td>6.000000</td>\n",
       "      <td>249135.462171</td>\n",
       "    </tr>\n",
       "    <tr>\n",
       "      <th>max</th>\n",
       "      <td>19.000000</td>\n",
       "      <td>641.065193</td>\n",
       "      <td>7480.592129</td>\n",
       "      <td>2014.000000</td>\n",
       "      <td>42.000000</td>\n",
       "      <td>117.000000</td>\n",
       "      <td>2.005201e+07</td>\n",
       "      <td>0.521867</td>\n",
       "      <td>74.000000</td>\n",
       "      <td>19083.000000</td>\n",
       "      <td>141.000000</td>\n",
       "      <td>4849.000000</td>\n",
       "      <td>6.000000</td>\n",
       "      <td>23.000000</td>\n",
       "      <td>633233.466570</td>\n",
       "    </tr>\n",
       "  </tbody>\n",
       "</table>\n",
       "</div>"
      ],
      "text/plain": [
       "              Rooms        Square   LifeSquare  KitchenSquare         Floor  \\\n",
       "count  10000.000000  10000.000000  7887.000000   10000.000000  10000.000000   \n",
       "mean       1.890500     56.315775    37.199645       6.273300      8.526700   \n",
       "std        0.839512     21.058732    86.241209      28.560917      5.241148   \n",
       "min        0.000000      1.136859     0.370619       0.000000      1.000000   \n",
       "25%        1.000000     41.774881    22.769832       1.000000      4.000000   \n",
       "50%        2.000000     52.513310    32.781260       6.000000      7.000000   \n",
       "75%        2.000000     65.900625    45.128803       9.000000     12.000000   \n",
       "max       19.000000    641.065193  7480.592129    2014.000000     42.000000   \n",
       "\n",
       "         HouseFloor     HouseYear     Ecology_1      Social_1      Social_2  \\\n",
       "count  10000.000000  1.000000e+04  10000.000000  10000.000000  10000.000000   \n",
       "mean      12.609400  3.990166e+03      0.118858     24.687000   5352.157400   \n",
       "std        6.775974  2.005003e+05      0.119025     17.532614   4006.799803   \n",
       "min        0.000000  1.910000e+03      0.000000      0.000000    168.000000   \n",
       "25%        9.000000  1.974000e+03      0.017647      6.000000   1564.000000   \n",
       "50%       13.000000  1.977000e+03      0.075424     25.000000   5285.000000   \n",
       "75%       17.000000  2.001000e+03      0.195781     36.000000   7227.000000   \n",
       "max      117.000000  2.005201e+07      0.521867     74.000000  19083.000000   \n",
       "\n",
       "           Social_3  Healthcare_1   Helthcare_2       Shops_1          Price  \n",
       "count  10000.000000   5202.000000  10000.000000  10000.000000   10000.000000  \n",
       "mean       8.039200   1142.904460      1.319500      4.231300  214138.857399  \n",
       "std       23.831875   1021.517264      1.493601      4.806341   92872.293865  \n",
       "min        0.000000      0.000000      0.000000      0.000000   59174.778028  \n",
       "25%        0.000000    350.000000      0.000000      1.000000  153872.633942  \n",
       "50%        2.000000    900.000000      1.000000      3.000000  192269.644879  \n",
       "75%        5.000000   1548.000000      2.000000      6.000000  249135.462171  \n",
       "max      141.000000   4849.000000      6.000000     23.000000  633233.466570  "
      ]
     },
     "execution_count": 7,
     "metadata": {},
     "output_type": "execute_result"
    }
   ],
   "source": [
    "df.describe()"
   ]
  },
  {
   "cell_type": "markdown",
   "metadata": {
    "papermill": {
     "duration": 0.037092,
     "end_time": "2021-02-05T16:30:33.530222",
     "exception": false,
     "start_time": "2021-02-05T16:30:33.493130",
     "status": "completed"
    },
    "tags": []
   },
   "source": [
    "Действительно, описание датасета подтверждает наши заключения по показателям признаков."
   ]
  },
  {
   "cell_type": "markdown",
   "metadata": {
    "papermill": {
     "duration": 0.03712,
     "end_time": "2021-02-05T16:30:33.603560",
     "exception": false,
     "start_time": "2021-02-05T16:30:33.566440",
     "status": "completed"
    },
    "tags": []
   },
   "source": [
    "Посмотрим на выбросы:<br>\n",
    "Исспользуем логарифмическую шкалу, для того, чтобы ящики не были слишком узкими."
   ]
  },
  {
   "cell_type": "code",
   "execution_count": 8,
   "metadata": {
    "execution": {
     "iopub.execute_input": "2021-02-05T16:30:33.689162Z",
     "iopub.status.busy": "2021-02-05T16:30:33.686986Z",
     "iopub.status.idle": "2021-02-05T16:30:34.140872Z",
     "shell.execute_reply": "2021-02-05T16:30:34.141427Z"
    },
    "papermill": {
     "duration": 0.500633,
     "end_time": "2021-02-05T16:30:34.141614",
     "exception": false,
     "start_time": "2021-02-05T16:30:33.640981",
     "status": "completed"
    },
    "tags": []
   },
   "outputs": [
    {
     "data": {
      "image/png": "[encoded data removed]",
      "text/plain": [
       "<Figure size 1152x576 with 1 Axes>"
      ]
     },
     "metadata": {
      "needs_background": "light"
     },
     "output_type": "display_data"
    }
   ],
   "source": [
    "plt.figure(figsize=(16, 8))\n",
    "sns.boxplot(data=df[['Square', 'LifeSquare', 'KitchenSquare']], orient='h')\n",
    "plt.xscale('symlog')\n",
    "plt.xlim(left=-1)\n",
    "plt.show()"
   ]
  },
  {
   "cell_type": "markdown",
   "metadata": {
    "papermill": {
     "duration": 0.036818,
     "end_time": "2021-02-05T16:30:34.215774",
     "exception": false,
     "start_time": "2021-02-05T16:30:34.178956",
     "status": "completed"
    },
    "tags": []
   },
   "source": [
    "Для недвижимости одним из важных признаков является цена за квадратный метр. Введем данный признак в датасет."
   ]
  },
  {
   "cell_type": "code",
   "execution_count": 9,
   "metadata": {
    "execution": {
     "iopub.execute_input": "2021-02-05T16:30:34.295488Z",
     "iopub.status.busy": "2021-02-05T16:30:34.294789Z",
     "iopub.status.idle": "2021-02-05T16:30:34.318888Z",
     "shell.execute_reply": "2021-02-05T16:30:34.318315Z"
    },
    "papermill": {
     "duration": 0.066448,
     "end_time": "2021-02-05T16:30:34.319048",
     "exception": false,
     "start_time": "2021-02-05T16:30:34.252600",
     "status": "completed"
    },
    "tags": []
   },
   "outputs": [],
   "source": [
    "df.insert(2,'SqMeterPrice', df.Price/df.Square)"
   ]
  },
  {
   "cell_type": "code",
   "execution_count": 10,
   "metadata": {
    "execution": {
     "iopub.execute_input": "2021-02-05T16:30:34.400010Z",
     "iopub.status.busy": "2021-02-05T16:30:34.399306Z",
     "iopub.status.idle": "2021-02-05T16:30:34.462731Z",
     "shell.execute_reply": "2021-02-05T16:30:34.462016Z"
    },
    "papermill": {
     "duration": 0.106927,
     "end_time": "2021-02-05T16:30:34.462885",
     "exception": false,
     "start_time": "2021-02-05T16:30:34.355958",
     "status": "completed"
    },
    "tags": []
   },
   "outputs": [
    {
     "data": {
      "text/html": [
       "<div>\n",
       "<style scoped>\n",
       "    .dataframe tbody tr th:only-of-type {\n",
       "        vertical-align: middle;\n",
       "    }\n",
       "\n",
       "    .dataframe tbody tr th {\n",
       "        vertical-align: top;\n",
       "    }\n",
       "\n",
       "    .dataframe thead th {\n",
       "        text-align: right;\n",
       "    }\n",
       "</style>\n",
       "<table border=\"1\" class=\"dataframe\">\n",
       "  <thead>\n",
       "    <tr style=\"text-align: right;\">\n",
       "      <th></th>\n",
       "      <th>SqMeterPrice</th>\n",
       "      <th>Rooms</th>\n",
       "      <th>Square</th>\n",
       "      <th>LifeSquare</th>\n",
       "      <th>KitchenSquare</th>\n",
       "      <th>Floor</th>\n",
       "      <th>HouseFloor</th>\n",
       "      <th>HouseYear</th>\n",
       "      <th>Ecology_1</th>\n",
       "      <th>Social_1</th>\n",
       "      <th>Social_2</th>\n",
       "      <th>Social_3</th>\n",
       "      <th>Healthcare_1</th>\n",
       "      <th>Helthcare_2</th>\n",
       "      <th>Shops_1</th>\n",
       "      <th>Price</th>\n",
       "    </tr>\n",
       "  </thead>\n",
       "  <tbody>\n",
       "    <tr>\n",
       "      <th>count</th>\n",
       "      <td>10000.000000</td>\n",
       "      <td>10000.000000</td>\n",
       "      <td>10000.000000</td>\n",
       "      <td>7887.000000</td>\n",
       "      <td>10000.000000</td>\n",
       "      <td>10000.000000</td>\n",
       "      <td>10000.000000</td>\n",
       "      <td>1.000000e+04</td>\n",
       "      <td>10000.000000</td>\n",
       "      <td>10000.000000</td>\n",
       "      <td>10000.000000</td>\n",
       "      <td>10000.000000</td>\n",
       "      <td>5202.000000</td>\n",
       "      <td>10000.000000</td>\n",
       "      <td>10000.000000</td>\n",
       "      <td>10000.000000</td>\n",
       "    </tr>\n",
       "    <tr>\n",
       "      <th>mean</th>\n",
       "      <td>3988.383777</td>\n",
       "      <td>1.890500</td>\n",
       "      <td>56.315775</td>\n",
       "      <td>37.199645</td>\n",
       "      <td>6.273300</td>\n",
       "      <td>8.526700</td>\n",
       "      <td>12.609400</td>\n",
       "      <td>3.990166e+03</td>\n",
       "      <td>0.118858</td>\n",
       "      <td>24.687000</td>\n",
       "      <td>5352.157400</td>\n",
       "      <td>8.039200</td>\n",
       "      <td>1142.904460</td>\n",
       "      <td>1.319500</td>\n",
       "      <td>4.231300</td>\n",
       "      <td>214138.857399</td>\n",
       "    </tr>\n",
       "    <tr>\n",
       "      <th>std</th>\n",
       "      <td>3755.437224</td>\n",
       "      <td>0.839512</td>\n",
       "      <td>21.058732</td>\n",
       "      <td>86.241209</td>\n",
       "      <td>28.560917</td>\n",
       "      <td>5.241148</td>\n",
       "      <td>6.775974</td>\n",
       "      <td>2.005003e+05</td>\n",
       "      <td>0.119025</td>\n",
       "      <td>17.532614</td>\n",
       "      <td>4006.799803</td>\n",
       "      <td>23.831875</td>\n",
       "      <td>1021.517264</td>\n",
       "      <td>1.493601</td>\n",
       "      <td>4.806341</td>\n",
       "      <td>92872.293865</td>\n",
       "    </tr>\n",
       "    <tr>\n",
       "      <th>min</th>\n",
       "      <td>208.293451</td>\n",
       "      <td>0.000000</td>\n",
       "      <td>1.136859</td>\n",
       "      <td>0.370619</td>\n",
       "      <td>0.000000</td>\n",
       "      <td>1.000000</td>\n",
       "      <td>0.000000</td>\n",
       "      <td>1.910000e+03</td>\n",
       "      <td>0.000000</td>\n",
       "      <td>0.000000</td>\n",
       "      <td>168.000000</td>\n",
       "      <td>0.000000</td>\n",
       "      <td>0.000000</td>\n",
       "      <td>0.000000</td>\n",
       "      <td>0.000000</td>\n",
       "      <td>59174.778028</td>\n",
       "    </tr>\n",
       "    <tr>\n",
       "      <th>25%</th>\n",
       "      <td>2918.525328</td>\n",
       "      <td>1.000000</td>\n",
       "      <td>41.774881</td>\n",
       "      <td>22.769832</td>\n",
       "      <td>1.000000</td>\n",
       "      <td>4.000000</td>\n",
       "      <td>9.000000</td>\n",
       "      <td>1.974000e+03</td>\n",
       "      <td>0.017647</td>\n",
       "      <td>6.000000</td>\n",
       "      <td>1564.000000</td>\n",
       "      <td>0.000000</td>\n",
       "      <td>350.000000</td>\n",
       "      <td>0.000000</td>\n",
       "      <td>1.000000</td>\n",
       "      <td>153872.633942</td>\n",
       "    </tr>\n",
       "    <tr>\n",
       "      <th>50%</th>\n",
       "      <td>3910.052336</td>\n",
       "      <td>2.000000</td>\n",
       "      <td>52.513310</td>\n",
       "      <td>32.781260</td>\n",
       "      <td>6.000000</td>\n",
       "      <td>7.000000</td>\n",
       "      <td>13.000000</td>\n",
       "      <td>1.977000e+03</td>\n",
       "      <td>0.075424</td>\n",
       "      <td>25.000000</td>\n",
       "      <td>5285.000000</td>\n",
       "      <td>2.000000</td>\n",
       "      <td>900.000000</td>\n",
       "      <td>1.000000</td>\n",
       "      <td>3.000000</td>\n",
       "      <td>192269.644879</td>\n",
       "    </tr>\n",
       "    <tr>\n",
       "      <th>75%</th>\n",
       "      <td>4692.375993</td>\n",
       "      <td>2.000000</td>\n",
       "      <td>65.900625</td>\n",
       "      <td>45.128803</td>\n",
       "      <td>9.000000</td>\n",
       "      <td>12.000000</td>\n",
       "      <td>17.000000</td>\n",
       "      <td>2.001000e+03</td>\n",
       "      <td>0.195781</td>\n",
       "      <td>36.000000</td>\n",
       "      <td>7227.000000</td>\n",
       "      <td>5.000000</td>\n",
       "      <td>1548.000000</td>\n",
       "      <td>2.000000</td>\n",
       "      <td>6.000000</td>\n",
       "      <td>249135.462171</td>\n",
       "    </tr>\n",
       "    <tr>\n",
       "      <th>max</th>\n",
       "      <td>230463.537966</td>\n",
       "      <td>19.000000</td>\n",
       "      <td>641.065193</td>\n",
       "      <td>7480.592129</td>\n",
       "      <td>2014.000000</td>\n",
       "      <td>42.000000</td>\n",
       "      <td>117.000000</td>\n",
       "      <td>2.005201e+07</td>\n",
       "      <td>0.521867</td>\n",
       "      <td>74.000000</td>\n",
       "      <td>19083.000000</td>\n",
       "      <td>141.000000</td>\n",
       "      <td>4849.000000</td>\n",
       "      <td>6.000000</td>\n",
       "      <td>23.000000</td>\n",
       "      <td>633233.466570</td>\n",
       "    </tr>\n",
       "  </tbody>\n",
       "</table>\n",
       "</div>"
      ],
      "text/plain": [
       "        SqMeterPrice         Rooms        Square   LifeSquare  KitchenSquare  \\\n",
       "count   10000.000000  10000.000000  10000.000000  7887.000000   10000.000000   \n",
       "mean     3988.383777      1.890500     56.315775    37.199645       6.273300   \n",
       "std      3755.437224      0.839512     21.058732    86.241209      28.560917   \n",
       "min       208.293451      0.000000      1.136859     0.370619       0.000000   \n",
       "25%      2918.525328      1.000000     41.774881    22.769832       1.000000   \n",
       "50%      3910.052336      2.000000     52.513310    32.781260       6.000000   \n",
       "75%      4692.375993      2.000000     65.900625    45.128803       9.000000   \n",
       "max    230463.537966     19.000000    641.065193  7480.592129    2014.000000   \n",
       "\n",
       "              Floor    HouseFloor     HouseYear     Ecology_1      Social_1  \\\n",
       "count  10000.000000  10000.000000  1.000000e+04  10000.000000  10000.000000   \n",
       "mean       8.526700     12.609400  3.990166e+03      0.118858     24.687000   \n",
       "std        5.241148      6.775974  2.005003e+05      0.119025     17.532614   \n",
       "min        1.000000      0.000000  1.910000e+03      0.000000      0.000000   \n",
       "25%        4.000000      9.000000  1.974000e+03      0.017647      6.000000   \n",
       "50%        7.000000     13.000000  1.977000e+03      0.075424     25.000000   \n",
       "75%       12.000000     17.000000  2.001000e+03      0.195781     36.000000   \n",
       "max       42.000000    117.000000  2.005201e+07      0.521867     74.000000   \n",
       "\n",
       "           Social_2      Social_3  Healthcare_1   Helthcare_2       Shops_1  \\\n",
       "count  10000.000000  10000.000000   5202.000000  10000.000000  10000.000000   \n",
       "mean    5352.157400      8.039200   1142.904460      1.319500      4.231300   \n",
       "std     4006.799803     23.831875   1021.517264      1.493601      4.806341   \n",
       "min      168.000000      0.000000      0.000000      0.000000      0.000000   \n",
       "25%     1564.000000      0.000000    350.000000      0.000000      1.000000   \n",
       "50%     5285.000000      2.000000    900.000000      1.000000      3.000000   \n",
       "75%     7227.000000      5.000000   1548.000000      2.000000      6.000000   \n",
       "max    19083.000000    141.000000   4849.000000      6.000000     23.000000   \n",
       "\n",
       "               Price  \n",
       "count   10000.000000  \n",
       "mean   214138.857399  \n",
       "std     92872.293865  \n",
       "min     59174.778028  \n",
       "25%    153872.633942  \n",
       "50%    192269.644879  \n",
       "75%    249135.462171  \n",
       "max    633233.466570  "
      ]
     },
     "execution_count": 10,
     "metadata": {},
     "output_type": "execute_result"
    }
   ],
   "source": [
    "df.describe()"
   ]
  },
  {
   "cell_type": "code",
   "execution_count": 11,
   "metadata": {
    "execution": {
     "iopub.execute_input": "2021-02-05T16:30:34.561988Z",
     "iopub.status.busy": "2021-02-05T16:30:34.560372Z",
     "iopub.status.idle": "2021-02-05T16:30:34.671389Z",
     "shell.execute_reply": "2021-02-05T16:30:34.670564Z"
    },
    "papermill": {
     "duration": 0.170453,
     "end_time": "2021-02-05T16:30:34.671546",
     "exception": false,
     "start_time": "2021-02-05T16:30:34.501093",
     "status": "completed"
    },
    "tags": []
   },
   "outputs": [
    {
     "data": {
      "image/png": "[encoded data removed]",
      "text/plain": [
       "<Figure size 1152x576 with 1 Axes>"
      ]
     },
     "metadata": {
      "needs_background": "light"
     },
     "output_type": "display_data"
    }
   ],
   "source": [
    "# Взглянем на выбросы:\n",
    "plt.figure(figsize=(16, 8))\n",
    "sns.boxplot(data=df.SqMeterPrice, orient='h')\n",
    "plt.show()"
   ]
  },
  {
   "cell_type": "markdown",
   "metadata": {
    "papermill": {
     "duration": 0.039913,
     "end_time": "2021-02-05T16:30:34.750018",
     "exception": false,
     "start_time": "2021-02-05T16:30:34.710105",
     "status": "completed"
    },
    "tags": []
   },
   "source": [
    "Попробуем разобраться с площадью недвижимости"
   ]
  },
  {
   "cell_type": "code",
   "execution_count": 12,
   "metadata": {
    "execution": {
     "iopub.execute_input": "2021-02-05T16:30:34.833634Z",
     "iopub.status.busy": "2021-02-05T16:30:34.832889Z",
     "iopub.status.idle": "2021-02-05T16:30:34.865537Z",
     "shell.execute_reply": "2021-02-05T16:30:34.864952Z"
    },
    "papermill": {
     "duration": 0.076938,
     "end_time": "2021-02-05T16:30:34.865701",
     "exception": false,
     "start_time": "2021-02-05T16:30:34.788763",
     "status": "completed"
    },
    "tags": []
   },
   "outputs": [
    {
     "data": {
      "text/html": [
       "<div>\n",
       "<style scoped>\n",
       "    .dataframe tbody tr th:only-of-type {\n",
       "        vertical-align: middle;\n",
       "    }\n",
       "\n",
       "    .dataframe tbody tr th {\n",
       "        vertical-align: top;\n",
       "    }\n",
       "\n",
       "    .dataframe thead th {\n",
       "        text-align: right;\n",
       "    }\n",
       "</style>\n",
       "<table border=\"1\" class=\"dataframe\">\n",
       "  <thead>\n",
       "    <tr style=\"text-align: right;\">\n",
       "      <th></th>\n",
       "      <th>Id</th>\n",
       "      <th>DistrictId</th>\n",
       "      <th>SqMeterPrice</th>\n",
       "      <th>Rooms</th>\n",
       "      <th>Square</th>\n",
       "      <th>LifeSquare</th>\n",
       "      <th>KitchenSquare</th>\n",
       "      <th>Floor</th>\n",
       "      <th>HouseFloor</th>\n",
       "      <th>HouseYear</th>\n",
       "      <th>...</th>\n",
       "      <th>Ecology_2</th>\n",
       "      <th>Ecology_3</th>\n",
       "      <th>Social_1</th>\n",
       "      <th>Social_2</th>\n",
       "      <th>Social_3</th>\n",
       "      <th>Healthcare_1</th>\n",
       "      <th>Helthcare_2</th>\n",
       "      <th>Shops_1</th>\n",
       "      <th>Shops_2</th>\n",
       "      <th>Price</th>\n",
       "    </tr>\n",
       "  </thead>\n",
       "  <tbody>\n",
       "    <tr>\n",
       "      <th>6392</th>\n",
       "      <td>14786</td>\n",
       "      <td>1</td>\n",
       "      <td>159593.107918</td>\n",
       "      <td>1.0</td>\n",
       "      <td>1.136859</td>\n",
       "      <td>4.525736</td>\n",
       "      <td>1.0</td>\n",
       "      <td>3</td>\n",
       "      <td>1.0</td>\n",
       "      <td>1977</td>\n",
       "      <td>...</td>\n",
       "      <td>B</td>\n",
       "      <td>B</td>\n",
       "      <td>1</td>\n",
       "      <td>264</td>\n",
       "      <td>0</td>\n",
       "      <td>NaN</td>\n",
       "      <td>0</td>\n",
       "      <td>1</td>\n",
       "      <td>B</td>\n",
       "      <td>181434.825589</td>\n",
       "    </tr>\n",
       "    <tr>\n",
       "      <th>8283</th>\n",
       "      <td>15744</td>\n",
       "      <td>34</td>\n",
       "      <td>230463.537966</td>\n",
       "      <td>1.0</td>\n",
       "      <td>1.988943</td>\n",
       "      <td>2.642219</td>\n",
       "      <td>1.0</td>\n",
       "      <td>21</td>\n",
       "      <td>4.0</td>\n",
       "      <td>1977</td>\n",
       "      <td>...</td>\n",
       "      <td>B</td>\n",
       "      <td>B</td>\n",
       "      <td>53</td>\n",
       "      <td>13670</td>\n",
       "      <td>4</td>\n",
       "      <td>NaN</td>\n",
       "      <td>1</td>\n",
       "      <td>11</td>\n",
       "      <td>B</td>\n",
       "      <td>458378.777006</td>\n",
       "    </tr>\n",
       "    <tr>\n",
       "      <th>4853</th>\n",
       "      <td>3224</td>\n",
       "      <td>27</td>\n",
       "      <td>53253.578837</td>\n",
       "      <td>0.0</td>\n",
       "      <td>2.377248</td>\n",
       "      <td>0.873147</td>\n",
       "      <td>0.0</td>\n",
       "      <td>1</td>\n",
       "      <td>0.0</td>\n",
       "      <td>1977</td>\n",
       "      <td>...</td>\n",
       "      <td>B</td>\n",
       "      <td>B</td>\n",
       "      <td>2</td>\n",
       "      <td>469</td>\n",
       "      <td>0</td>\n",
       "      <td>NaN</td>\n",
       "      <td>0</td>\n",
       "      <td>0</td>\n",
       "      <td>B</td>\n",
       "      <td>126596.941798</td>\n",
       "    </tr>\n",
       "    <tr>\n",
       "      <th>1608</th>\n",
       "      <td>10202</td>\n",
       "      <td>6</td>\n",
       "      <td>52996.529388</td>\n",
       "      <td>1.0</td>\n",
       "      <td>2.596351</td>\n",
       "      <td>4.604943</td>\n",
       "      <td>1.0</td>\n",
       "      <td>3</td>\n",
       "      <td>25.0</td>\n",
       "      <td>2014</td>\n",
       "      <td>...</td>\n",
       "      <td>B</td>\n",
       "      <td>B</td>\n",
       "      <td>5</td>\n",
       "      <td>1564</td>\n",
       "      <td>0</td>\n",
       "      <td>540.0</td>\n",
       "      <td>0</td>\n",
       "      <td>0</td>\n",
       "      <td>B</td>\n",
       "      <td>137597.601458</td>\n",
       "    </tr>\n",
       "    <tr>\n",
       "      <th>9294</th>\n",
       "      <td>6782</td>\n",
       "      <td>45</td>\n",
       "      <td>148259.792432</td>\n",
       "      <td>1.0</td>\n",
       "      <td>2.954309</td>\n",
       "      <td>5.257278</td>\n",
       "      <td>1.0</td>\n",
       "      <td>3</td>\n",
       "      <td>1.0</td>\n",
       "      <td>1977</td>\n",
       "      <td>...</td>\n",
       "      <td>B</td>\n",
       "      <td>B</td>\n",
       "      <td>23</td>\n",
       "      <td>5212</td>\n",
       "      <td>6</td>\n",
       "      <td>NaN</td>\n",
       "      <td>3</td>\n",
       "      <td>2</td>\n",
       "      <td>B</td>\n",
       "      <td>438005.182323</td>\n",
       "    </tr>\n",
       "  </tbody>\n",
       "</table>\n",
       "<p>5 rows × 21 columns</p>\n",
       "</div>"
      ],
      "text/plain": [
       "         Id DistrictId   SqMeterPrice  Rooms    Square  LifeSquare  \\\n",
       "6392  14786          1  159593.107918    1.0  1.136859    4.525736   \n",
       "8283  15744         34  230463.537966    1.0  1.988943    2.642219   \n",
       "4853   3224         27   53253.578837    0.0  2.377248    0.873147   \n",
       "1608  10202          6   52996.529388    1.0  2.596351    4.604943   \n",
       "9294   6782         45  148259.792432    1.0  2.954309    5.257278   \n",
       "\n",
       "      KitchenSquare  Floor  HouseFloor  HouseYear  ...  Ecology_2 Ecology_3  \\\n",
       "6392            1.0      3         1.0       1977  ...          B         B   \n",
       "8283            1.0     21         4.0       1977  ...          B         B   \n",
       "4853            0.0      1         0.0       1977  ...          B         B   \n",
       "1608            1.0      3        25.0       2014  ...          B         B   \n",
       "9294            1.0      3         1.0       1977  ...          B         B   \n",
       "\n",
       "     Social_1  Social_2  Social_3  Healthcare_1  Helthcare_2  Shops_1  \\\n",
       "6392        1       264         0           NaN            0        1   \n",
       "8283       53     13670         4           NaN            1       11   \n",
       "4853        2       469         0           NaN            0        0   \n",
       "1608        5      1564         0         540.0            0        0   \n",
       "9294       23      5212         6           NaN            3        2   \n",
       "\n",
       "      Shops_2          Price  \n",
       "6392        B  181434.825589  \n",
       "8283        B  458378.777006  \n",
       "4853        B  126596.941798  \n",
       "1608        B  137597.601458  \n",
       "9294        B  438005.182323  \n",
       "\n",
       "[5 rows x 21 columns]"
      ]
     },
     "execution_count": 12,
     "metadata": {},
     "output_type": "execute_result"
    }
   ],
   "source": [
    "df.sort_values(by='Square', axis=0, ascending=True).head()"
   ]
  },
  {
   "cell_type": "markdown",
   "metadata": {
    "papermill": {
     "duration": 0.040739,
     "end_time": "2021-02-05T16:30:34.946120",
     "exception": false,
     "start_time": "2021-02-05T16:30:34.905381",
     "status": "completed"
    },
    "tags": []
   },
   "source": [
    "Датасет явно заполнен мусорными данными, трудно представить себе жилые помещения площадью 6 кв. м.<br>Цена за кв.м тоже намекает об этом.<br>То же можно сказать о помещениях с площадью более 400 кв. м. и с низкой ценой за метр."
   ]
  },
  {
   "cell_type": "code",
   "execution_count": 13,
   "metadata": {
    "execution": {
     "iopub.execute_input": "2021-02-05T16:30:35.041530Z",
     "iopub.status.busy": "2021-02-05T16:30:35.038083Z",
     "iopub.status.idle": "2021-02-05T16:30:35.046867Z",
     "shell.execute_reply": "2021-02-05T16:30:35.045858Z"
    },
    "papermill": {
     "duration": 0.06066,
     "end_time": "2021-02-05T16:30:35.047186",
     "exception": false,
     "start_time": "2021-02-05T16:30:34.986526",
     "status": "completed"
    },
    "tags": []
   },
   "outputs": [],
   "source": [
    "df.loc[(df.Square<1.3), 'Square']= df['Square']*100\n",
    "df.loc[(df.Square<=13), 'Square']= df['Square']*10\n",
    "df.loc[(df.Square>300), 'Square']= df['Square']/10"
   ]
  },
  {
   "cell_type": "code",
   "execution_count": 14,
   "metadata": {
    "execution": {
     "iopub.execute_input": "2021-02-05T16:30:35.138653Z",
     "iopub.status.busy": "2021-02-05T16:30:35.137945Z",
     "iopub.status.idle": "2021-02-05T16:30:35.142204Z",
     "shell.execute_reply": "2021-02-05T16:30:35.141616Z"
    },
    "papermill": {
     "duration": 0.054587,
     "end_time": "2021-02-05T16:30:35.142366",
     "exception": false,
     "start_time": "2021-02-05T16:30:35.087779",
     "status": "completed"
    },
    "tags": []
   },
   "outputs": [],
   "source": [
    "df.drop('SqMeterPrice', axis=1, inplace=True)\n",
    "df.insert(2,'SqMeterPrice', df.Price/df.Square)"
   ]
  },
  {
   "cell_type": "code",
   "execution_count": 15,
   "metadata": {
    "execution": {
     "iopub.execute_input": "2021-02-05T16:30:35.245806Z",
     "iopub.status.busy": "2021-02-05T16:30:35.245079Z",
     "iopub.status.idle": "2021-02-05T16:30:35.355162Z",
     "shell.execute_reply": "2021-02-05T16:30:35.355653Z"
    },
    "papermill": {
     "duration": 0.172917,
     "end_time": "2021-02-05T16:30:35.355848",
     "exception": false,
     "start_time": "2021-02-05T16:30:35.182931",
     "status": "completed"
    },
    "tags": []
   },
   "outputs": [
    {
     "data": {
      "image/png": "[encoded data removed]",
      "text/plain": [
       "<Figure size 1152x576 with 1 Axes>"
      ]
     },
     "metadata": {
      "needs_background": "light"
     },
     "output_type": "display_data"
    }
   ],
   "source": [
    "plt.figure(figsize=(16, 8))\n",
    "sns.boxplot(data=df.SqMeterPrice, orient='h')\n",
    "plt.show()"
   ]
  },
  {
   "cell_type": "markdown",
   "metadata": {
    "papermill": {
     "duration": 0.0406,
     "end_time": "2021-02-05T16:30:35.438045",
     "exception": false,
     "start_time": "2021-02-05T16:30:35.397445",
     "status": "completed"
    },
    "tags": []
   },
   "source": [
    "Избавились от совсем низких значений стоимости квадратного метра. Высокую стоимость трогать не будем, т.к. это могут быть элитные объекты недвижимости"
   ]
  },
  {
   "cell_type": "markdown",
   "metadata": {
    "papermill": {
     "duration": 0.040722,
     "end_time": "2021-02-05T16:30:35.519337",
     "exception": false,
     "start_time": "2021-02-05T16:30:35.478615",
     "status": "completed"
    },
    "tags": []
   },
   "source": [
    "Взглянем на корреляцию признков в датасете:"
   ]
  },
  {
   "cell_type": "code",
   "execution_count": 16,
   "metadata": {
    "execution": {
     "iopub.execute_input": "2021-02-05T16:30:35.604633Z",
     "iopub.status.busy": "2021-02-05T16:30:35.603807Z",
     "iopub.status.idle": "2021-02-05T16:30:37.487375Z",
     "shell.execute_reply": "2021-02-05T16:30:37.487861Z"
    },
    "papermill": {
     "duration": 1.928426,
     "end_time": "2021-02-05T16:30:37.488046",
     "exception": false,
     "start_time": "2021-02-05T16:30:35.559620",
     "status": "completed"
    },
    "tags": []
   },
   "outputs": [
    {
     "data": {
      "image/png": "[encoded data removed]",
      "text/plain": [
       "<Figure size 1296x1152 with 2 Axes>"
      ]
     },
     "metadata": {
      "needs_background": "light"
     },
     "output_type": "display_data"
    }
   ],
   "source": [
    "df_corr=df.corr()\n",
    "plt.figure(figsize=(18,16))\n",
    "sns.heatmap(df_corr, annot=True, linewidths=0.3, cmap='coolwarm', square=True)\n",
    "plt.show()"
   ]
  },
  {
   "cell_type": "markdown",
   "metadata": {
    "papermill": {
     "duration": 0.045219,
     "end_time": "2021-02-05T16:30:37.579303",
     "exception": false,
     "start_time": "2021-02-05T16:30:37.534084",
     "status": "completed"
    },
    "tags": []
   },
   "source": [
    "Видим, что целевая переменная сильно зависит от количества комнат и площади"
   ]
  },
  {
   "cell_type": "code",
   "execution_count": 17,
   "metadata": {
    "execution": {
     "iopub.execute_input": "2021-02-05T16:30:37.677884Z",
     "iopub.status.busy": "2021-02-05T16:30:37.676979Z",
     "iopub.status.idle": "2021-02-05T16:30:37.681859Z",
     "shell.execute_reply": "2021-02-05T16:30:37.681333Z"
    },
    "papermill": {
     "duration": 0.057076,
     "end_time": "2021-02-05T16:30:37.682007",
     "exception": false,
     "start_time": "2021-02-05T16:30:37.624931",
     "status": "completed"
    },
    "tags": []
   },
   "outputs": [
    {
     "data": {
      "text/plain": [
       "array([ 2.,  3.,  1.,  4., 10.,  0.,  5., 19.,  6.])"
      ]
     },
     "execution_count": 17,
     "metadata": {},
     "output_type": "execute_result"
    }
   ],
   "source": [
    "df.Rooms.unique()"
   ]
  },
  {
   "cell_type": "code",
   "execution_count": 18,
   "metadata": {
    "execution": {
     "iopub.execute_input": "2021-02-05T16:30:37.786072Z",
     "iopub.status.busy": "2021-02-05T16:30:37.780739Z",
     "iopub.status.idle": "2021-02-05T16:30:37.810484Z",
     "shell.execute_reply": "2021-02-05T16:30:37.809816Z"
    },
    "papermill": {
     "duration": 0.082486,
     "end_time": "2021-02-05T16:30:37.810630",
     "exception": false,
     "start_time": "2021-02-05T16:30:37.728144",
     "status": "completed"
    },
    "tags": []
   },
   "outputs": [
    {
     "data": {
      "text/html": [
       "<div>\n",
       "<style scoped>\n",
       "    .dataframe tbody tr th:only-of-type {\n",
       "        vertical-align: middle;\n",
       "    }\n",
       "\n",
       "    .dataframe tbody tr th {\n",
       "        vertical-align: top;\n",
       "    }\n",
       "\n",
       "    .dataframe thead th {\n",
       "        text-align: right;\n",
       "    }\n",
       "</style>\n",
       "<table border=\"1\" class=\"dataframe\">\n",
       "  <thead>\n",
       "    <tr style=\"text-align: right;\">\n",
       "      <th></th>\n",
       "      <th>Id</th>\n",
       "      <th>DistrictId</th>\n",
       "      <th>SqMeterPrice</th>\n",
       "      <th>Rooms</th>\n",
       "      <th>Square</th>\n",
       "      <th>LifeSquare</th>\n",
       "      <th>KitchenSquare</th>\n",
       "      <th>Floor</th>\n",
       "      <th>HouseFloor</th>\n",
       "      <th>HouseYear</th>\n",
       "      <th>...</th>\n",
       "      <th>Ecology_2</th>\n",
       "      <th>Ecology_3</th>\n",
       "      <th>Social_1</th>\n",
       "      <th>Social_2</th>\n",
       "      <th>Social_3</th>\n",
       "      <th>Healthcare_1</th>\n",
       "      <th>Helthcare_2</th>\n",
       "      <th>Shops_1</th>\n",
       "      <th>Shops_2</th>\n",
       "      <th>Price</th>\n",
       "    </tr>\n",
       "  </thead>\n",
       "  <tbody>\n",
       "    <tr>\n",
       "      <th>377</th>\n",
       "      <td>5927</td>\n",
       "      <td>57</td>\n",
       "      <td>5372.190561</td>\n",
       "      <td>10.0</td>\n",
       "      <td>59.056975</td>\n",
       "      <td>36.223072</td>\n",
       "      <td>10.0</td>\n",
       "      <td>22</td>\n",
       "      <td>22.0</td>\n",
       "      <td>2002</td>\n",
       "      <td>...</td>\n",
       "      <td>B</td>\n",
       "      <td>B</td>\n",
       "      <td>74</td>\n",
       "      <td>19083</td>\n",
       "      <td>2</td>\n",
       "      <td>NaN</td>\n",
       "      <td>5</td>\n",
       "      <td>15</td>\n",
       "      <td>B</td>\n",
       "      <td>317265.323792</td>\n",
       "    </tr>\n",
       "    <tr>\n",
       "      <th>1454</th>\n",
       "      <td>8491</td>\n",
       "      <td>1</td>\n",
       "      <td>1865.555669</td>\n",
       "      <td>19.0</td>\n",
       "      <td>42.006046</td>\n",
       "      <td>21.779288</td>\n",
       "      <td>7.0</td>\n",
       "      <td>17</td>\n",
       "      <td>17.0</td>\n",
       "      <td>2014</td>\n",
       "      <td>...</td>\n",
       "      <td>B</td>\n",
       "      <td>B</td>\n",
       "      <td>1</td>\n",
       "      <td>264</td>\n",
       "      <td>0</td>\n",
       "      <td>NaN</td>\n",
       "      <td>0</td>\n",
       "      <td>1</td>\n",
       "      <td>B</td>\n",
       "      <td>78364.616704</td>\n",
       "    </tr>\n",
       "    <tr>\n",
       "      <th>8849</th>\n",
       "      <td>14865</td>\n",
       "      <td>9</td>\n",
       "      <td>2831.044647</td>\n",
       "      <td>10.0</td>\n",
       "      <td>60.871266</td>\n",
       "      <td>38.420681</td>\n",
       "      <td>10.0</td>\n",
       "      <td>3</td>\n",
       "      <td>2.0</td>\n",
       "      <td>1994</td>\n",
       "      <td>...</td>\n",
       "      <td>B</td>\n",
       "      <td>B</td>\n",
       "      <td>25</td>\n",
       "      <td>5648</td>\n",
       "      <td>1</td>\n",
       "      <td>30.0</td>\n",
       "      <td>2</td>\n",
       "      <td>4</td>\n",
       "      <td>B</td>\n",
       "      <td>172329.270863</td>\n",
       "    </tr>\n",
       "  </tbody>\n",
       "</table>\n",
       "<p>3 rows × 21 columns</p>\n",
       "</div>"
      ],
      "text/plain": [
       "         Id DistrictId  SqMeterPrice  Rooms     Square  LifeSquare  \\\n",
       "377    5927         57   5372.190561   10.0  59.056975   36.223072   \n",
       "1454   8491          1   1865.555669   19.0  42.006046   21.779288   \n",
       "8849  14865          9   2831.044647   10.0  60.871266   38.420681   \n",
       "\n",
       "      KitchenSquare  Floor  HouseFloor  HouseYear  ...  Ecology_2 Ecology_3  \\\n",
       "377            10.0     22        22.0       2002  ...          B         B   \n",
       "1454            7.0     17        17.0       2014  ...          B         B   \n",
       "8849           10.0      3         2.0       1994  ...          B         B   \n",
       "\n",
       "     Social_1  Social_2  Social_3  Healthcare_1  Helthcare_2  Shops_1  \\\n",
       "377        74     19083         2           NaN            5       15   \n",
       "1454        1       264         0           NaN            0        1   \n",
       "8849       25      5648         1          30.0            2        4   \n",
       "\n",
       "      Shops_2          Price  \n",
       "377         B  317265.323792  \n",
       "1454        B   78364.616704  \n",
       "8849        B  172329.270863  \n",
       "\n",
       "[3 rows x 21 columns]"
      ]
     },
     "execution_count": 18,
     "metadata": {},
     "output_type": "execute_result"
    }
   ],
   "source": [
    "df[df.Rooms>6]"
   ]
  },
  {
   "cell_type": "code",
   "execution_count": 19,
   "metadata": {
    "execution": {
     "iopub.execute_input": "2021-02-05T16:30:37.939957Z",
     "iopub.status.busy": "2021-02-05T16:30:37.939161Z",
     "iopub.status.idle": "2021-02-05T16:30:37.943853Z",
     "shell.execute_reply": "2021-02-05T16:30:37.944338Z"
    },
    "papermill": {
     "duration": 0.085903,
     "end_time": "2021-02-05T16:30:37.944523",
     "exception": false,
     "start_time": "2021-02-05T16:30:37.858620",
     "status": "completed"
    },
    "tags": []
   },
   "outputs": [
    {
     "data": {
      "text/html": [
       "<div>\n",
       "<style scoped>\n",
       "    .dataframe tbody tr th:only-of-type {\n",
       "        vertical-align: middle;\n",
       "    }\n",
       "\n",
       "    .dataframe tbody tr th {\n",
       "        vertical-align: top;\n",
       "    }\n",
       "\n",
       "    .dataframe thead th {\n",
       "        text-align: right;\n",
       "    }\n",
       "</style>\n",
       "<table border=\"1\" class=\"dataframe\">\n",
       "  <thead>\n",
       "    <tr style=\"text-align: right;\">\n",
       "      <th></th>\n",
       "      <th>Id</th>\n",
       "      <th>DistrictId</th>\n",
       "      <th>SqMeterPrice</th>\n",
       "      <th>Rooms</th>\n",
       "      <th>Square</th>\n",
       "      <th>LifeSquare</th>\n",
       "      <th>KitchenSquare</th>\n",
       "      <th>Floor</th>\n",
       "      <th>HouseFloor</th>\n",
       "      <th>HouseYear</th>\n",
       "      <th>...</th>\n",
       "      <th>Ecology_2</th>\n",
       "      <th>Ecology_3</th>\n",
       "      <th>Social_1</th>\n",
       "      <th>Social_2</th>\n",
       "      <th>Social_3</th>\n",
       "      <th>Healthcare_1</th>\n",
       "      <th>Helthcare_2</th>\n",
       "      <th>Shops_1</th>\n",
       "      <th>Shops_2</th>\n",
       "      <th>Price</th>\n",
       "    </tr>\n",
       "  </thead>\n",
       "  <tbody>\n",
       "    <tr>\n",
       "      <th>1397</th>\n",
       "      <td>12638</td>\n",
       "      <td>27</td>\n",
       "      <td>1938.880408</td>\n",
       "      <td>0.0</td>\n",
       "      <td>138.427694</td>\n",
       "      <td>136.215499</td>\n",
       "      <td>0.0</td>\n",
       "      <td>4</td>\n",
       "      <td>3.0</td>\n",
       "      <td>2016</td>\n",
       "      <td>...</td>\n",
       "      <td>B</td>\n",
       "      <td>B</td>\n",
       "      <td>11</td>\n",
       "      <td>3097</td>\n",
       "      <td>0</td>\n",
       "      <td>NaN</td>\n",
       "      <td>0</td>\n",
       "      <td>0</td>\n",
       "      <td>B</td>\n",
       "      <td>268394.744389</td>\n",
       "    </tr>\n",
       "    <tr>\n",
       "      <th>1981</th>\n",
       "      <td>7917</td>\n",
       "      <td>27</td>\n",
       "      <td>1419.282909</td>\n",
       "      <td>0.0</td>\n",
       "      <td>212.932361</td>\n",
       "      <td>211.231125</td>\n",
       "      <td>0.0</td>\n",
       "      <td>2</td>\n",
       "      <td>3.0</td>\n",
       "      <td>2008</td>\n",
       "      <td>...</td>\n",
       "      <td>B</td>\n",
       "      <td>B</td>\n",
       "      <td>9</td>\n",
       "      <td>1892</td>\n",
       "      <td>0</td>\n",
       "      <td>NaN</td>\n",
       "      <td>0</td>\n",
       "      <td>1</td>\n",
       "      <td>B</td>\n",
       "      <td>302211.260887</td>\n",
       "    </tr>\n",
       "    <tr>\n",
       "      <th>2269</th>\n",
       "      <td>7317</td>\n",
       "      <td>27</td>\n",
       "      <td>2348.119347</td>\n",
       "      <td>0.0</td>\n",
       "      <td>41.790881</td>\n",
       "      <td>NaN</td>\n",
       "      <td>0.0</td>\n",
       "      <td>13</td>\n",
       "      <td>0.0</td>\n",
       "      <td>1977</td>\n",
       "      <td>...</td>\n",
       "      <td>B</td>\n",
       "      <td>B</td>\n",
       "      <td>9</td>\n",
       "      <td>1892</td>\n",
       "      <td>0</td>\n",
       "      <td>NaN</td>\n",
       "      <td>0</td>\n",
       "      <td>1</td>\n",
       "      <td>B</td>\n",
       "      <td>98129.976788</td>\n",
       "    </tr>\n",
       "    <tr>\n",
       "      <th>3911</th>\n",
       "      <td>770</td>\n",
       "      <td>28</td>\n",
       "      <td>4385.488771</td>\n",
       "      <td>0.0</td>\n",
       "      <td>49.483501</td>\n",
       "      <td>NaN</td>\n",
       "      <td>0.0</td>\n",
       "      <td>16</td>\n",
       "      <td>0.0</td>\n",
       "      <td>2015</td>\n",
       "      <td>...</td>\n",
       "      <td>B</td>\n",
       "      <td>B</td>\n",
       "      <td>30</td>\n",
       "      <td>6207</td>\n",
       "      <td>1</td>\n",
       "      <td>1183.0</td>\n",
       "      <td>1</td>\n",
       "      <td>0</td>\n",
       "      <td>B</td>\n",
       "      <td>217009.338463</td>\n",
       "    </tr>\n",
       "    <tr>\n",
       "      <th>4366</th>\n",
       "      <td>456</td>\n",
       "      <td>6</td>\n",
       "      <td>2612.112170</td>\n",
       "      <td>0.0</td>\n",
       "      <td>81.491446</td>\n",
       "      <td>NaN</td>\n",
       "      <td>0.0</td>\n",
       "      <td>4</td>\n",
       "      <td>0.0</td>\n",
       "      <td>1977</td>\n",
       "      <td>...</td>\n",
       "      <td>B</td>\n",
       "      <td>B</td>\n",
       "      <td>5</td>\n",
       "      <td>1564</td>\n",
       "      <td>0</td>\n",
       "      <td>540.0</td>\n",
       "      <td>0</td>\n",
       "      <td>0</td>\n",
       "      <td>B</td>\n",
       "      <td>212864.799112</td>\n",
       "    </tr>\n",
       "    <tr>\n",
       "      <th>4853</th>\n",
       "      <td>3224</td>\n",
       "      <td>27</td>\n",
       "      <td>5325.357884</td>\n",
       "      <td>0.0</td>\n",
       "      <td>23.772476</td>\n",
       "      <td>0.873147</td>\n",
       "      <td>0.0</td>\n",
       "      <td>1</td>\n",
       "      <td>0.0</td>\n",
       "      <td>1977</td>\n",
       "      <td>...</td>\n",
       "      <td>B</td>\n",
       "      <td>B</td>\n",
       "      <td>2</td>\n",
       "      <td>469</td>\n",
       "      <td>0</td>\n",
       "      <td>NaN</td>\n",
       "      <td>0</td>\n",
       "      <td>0</td>\n",
       "      <td>B</td>\n",
       "      <td>126596.941798</td>\n",
       "    </tr>\n",
       "    <tr>\n",
       "      <th>6149</th>\n",
       "      <td>3159</td>\n",
       "      <td>88</td>\n",
       "      <td>4108.784399</td>\n",
       "      <td>0.0</td>\n",
       "      <td>38.697117</td>\n",
       "      <td>19.345131</td>\n",
       "      <td>9.0</td>\n",
       "      <td>9</td>\n",
       "      <td>16.0</td>\n",
       "      <td>1982</td>\n",
       "      <td>...</td>\n",
       "      <td>B</td>\n",
       "      <td>B</td>\n",
       "      <td>43</td>\n",
       "      <td>8429</td>\n",
       "      <td>3</td>\n",
       "      <td>NaN</td>\n",
       "      <td>3</td>\n",
       "      <td>9</td>\n",
       "      <td>B</td>\n",
       "      <td>158998.110646</td>\n",
       "    </tr>\n",
       "    <tr>\n",
       "      <th>8834</th>\n",
       "      <td>9443</td>\n",
       "      <td>27</td>\n",
       "      <td>2498.580012</td>\n",
       "      <td>0.0</td>\n",
       "      <td>87.762616</td>\n",
       "      <td>85.125471</td>\n",
       "      <td>0.0</td>\n",
       "      <td>5</td>\n",
       "      <td>15.0</td>\n",
       "      <td>1977</td>\n",
       "      <td>...</td>\n",
       "      <td>B</td>\n",
       "      <td>B</td>\n",
       "      <td>9</td>\n",
       "      <td>1892</td>\n",
       "      <td>0</td>\n",
       "      <td>NaN</td>\n",
       "      <td>0</td>\n",
       "      <td>1</td>\n",
       "      <td>B</td>\n",
       "      <td>219281.918007</td>\n",
       "    </tr>\n",
       "  </tbody>\n",
       "</table>\n",
       "<p>8 rows × 21 columns</p>\n",
       "</div>"
      ],
      "text/plain": [
       "         Id DistrictId  SqMeterPrice  Rooms      Square  LifeSquare  \\\n",
       "1397  12638         27   1938.880408    0.0  138.427694  136.215499   \n",
       "1981   7917         27   1419.282909    0.0  212.932361  211.231125   \n",
       "2269   7317         27   2348.119347    0.0   41.790881         NaN   \n",
       "3911    770         28   4385.488771    0.0   49.483501         NaN   \n",
       "4366    456          6   2612.112170    0.0   81.491446         NaN   \n",
       "4853   3224         27   5325.357884    0.0   23.772476    0.873147   \n",
       "6149   3159         88   4108.784399    0.0   38.697117   19.345131   \n",
       "8834   9443         27   2498.580012    0.0   87.762616   85.125471   \n",
       "\n",
       "      KitchenSquare  Floor  HouseFloor  HouseYear  ...  Ecology_2 Ecology_3  \\\n",
       "1397            0.0      4         3.0       2016  ...          B         B   \n",
       "1981            0.0      2         3.0       2008  ...          B         B   \n",
       "2269            0.0     13         0.0       1977  ...          B         B   \n",
       "3911            0.0     16         0.0       2015  ...          B         B   \n",
       "4366            0.0      4         0.0       1977  ...          B         B   \n",
       "4853            0.0      1         0.0       1977  ...          B         B   \n",
       "6149            9.0      9        16.0       1982  ...          B         B   \n",
       "8834            0.0      5        15.0       1977  ...          B         B   \n",
       "\n",
       "     Social_1  Social_2  Social_3  Healthcare_1  Helthcare_2  Shops_1  \\\n",
       "1397       11      3097         0           NaN            0        0   \n",
       "1981        9      1892         0           NaN            0        1   \n",
       "2269        9      1892         0           NaN            0        1   \n",
       "3911       30      6207         1        1183.0            1        0   \n",
       "4366        5      1564         0         540.0            0        0   \n",
       "4853        2       469         0           NaN            0        0   \n",
       "6149       43      8429         3           NaN            3        9   \n",
       "8834        9      1892         0           NaN            0        1   \n",
       "\n",
       "      Shops_2          Price  \n",
       "1397        B  268394.744389  \n",
       "1981        B  302211.260887  \n",
       "2269        B   98129.976788  \n",
       "3911        B  217009.338463  \n",
       "4366        B  212864.799112  \n",
       "4853        B  126596.941798  \n",
       "6149        B  158998.110646  \n",
       "8834        B  219281.918007  \n",
       "\n",
       "[8 rows x 21 columns]"
      ]
     },
     "execution_count": 19,
     "metadata": {},
     "output_type": "execute_result"
    }
   ],
   "source": [
    "df[df.Rooms==0]"
   ]
  },
  {
   "cell_type": "code",
   "execution_count": 20,
   "metadata": {
    "execution": {
     "iopub.execute_input": "2021-02-05T16:30:38.048792Z",
     "iopub.status.busy": "2021-02-05T16:30:38.046393Z",
     "iopub.status.idle": "2021-02-05T16:30:38.053678Z",
     "shell.execute_reply": "2021-02-05T16:30:38.052973Z"
    },
    "papermill": {
     "duration": 0.061929,
     "end_time": "2021-02-05T16:30:38.053843",
     "exception": false,
     "start_time": "2021-02-05T16:30:37.991914",
     "status": "completed"
    },
    "tags": []
   },
   "outputs": [
    {
     "data": {
      "text/plain": [
       "0    2.0\n",
       "dtype: float64"
      ]
     },
     "execution_count": 20,
     "metadata": {},
     "output_type": "execute_result"
    }
   ],
   "source": [
    "df.Rooms.mode()"
   ]
  },
  {
   "cell_type": "markdown",
   "metadata": {
    "papermill": {
     "duration": 0.047947,
     "end_time": "2021-02-05T16:30:38.152483",
     "exception": false,
     "start_time": "2021-02-05T16:30:38.104536",
     "status": "completed"
    },
    "tags": []
   },
   "source": [
    "Надо будет заменить значения выше 6 и меньше 1 на наиболеее частые значения количества комнат.<br>\n",
    "Исходя из соображений о рынке недвижимости, цена за кв.м. может зависить от расположения квартиры и количества комнат, поэтому, при подготовке данных для обучения учтем и этот вариант, для формирования средей стоимости за квадратный метр."
   ]
  },
  {
   "cell_type": "markdown",
   "metadata": {
    "papermill": {
     "duration": 0.04826,
     "end_time": "2021-02-05T16:30:38.248785",
     "exception": false,
     "start_time": "2021-02-05T16:30:38.200525",
     "status": "completed"
    },
    "tags": []
   },
   "source": [
    "Посмотрим на пропуски в данных:"
   ]
  },
  {
   "cell_type": "code",
   "execution_count": 21,
   "metadata": {
    "execution": {
     "iopub.execute_input": "2021-02-05T16:30:38.359135Z",
     "iopub.status.busy": "2021-02-05T16:30:38.358418Z",
     "iopub.status.idle": "2021-02-05T16:30:38.367649Z",
     "shell.execute_reply": "2021-02-05T16:30:38.367043Z"
    },
    "papermill": {
     "duration": 0.070634,
     "end_time": "2021-02-05T16:30:38.367946",
     "exception": false,
     "start_time": "2021-02-05T16:30:38.297312",
     "status": "completed"
    },
    "tags": []
   },
   "outputs": [
    {
     "data": {
      "text/plain": [
       "Id                  0\n",
       "DistrictId          0\n",
       "SqMeterPrice        0\n",
       "Rooms               0\n",
       "Square              0\n",
       "LifeSquare       2113\n",
       "KitchenSquare       0\n",
       "Floor               0\n",
       "HouseFloor          0\n",
       "HouseYear           0\n",
       "Ecology_1           0\n",
       "Ecology_2           0\n",
       "Ecology_3           0\n",
       "Social_1            0\n",
       "Social_2            0\n",
       "Social_3            0\n",
       "Healthcare_1     4798\n",
       "Helthcare_2         0\n",
       "Shops_1             0\n",
       "Shops_2             0\n",
       "Price               0\n",
       "dtype: int64"
      ]
     },
     "execution_count": 21,
     "metadata": {},
     "output_type": "execute_result"
    }
   ],
   "source": [
    "df.isnull().sum()"
   ]
  },
  {
   "cell_type": "markdown",
   "metadata": {
    "papermill": {
     "duration": 0.049715,
     "end_time": "2021-02-05T16:30:38.470700",
     "exception": false,
     "start_time": "2021-02-05T16:30:38.420985",
     "status": "completed"
    },
    "tags": []
   },
   "source": [
    "2113 пропусков в LifeSquare, 4798 в Healthcare_1. Есть большой соблазн избавиться от Healthcare_1.\n",
    "Но сначала попробуем разобраться с непонятными признаками, связанными с экологией, здоровьем, магазинами и т.д."
   ]
  },
  {
   "cell_type": "code",
   "execution_count": 22,
   "metadata": {
    "execution": {
     "iopub.execute_input": "2021-02-05T16:30:38.574601Z",
     "iopub.status.busy": "2021-02-05T16:30:38.573708Z",
     "iopub.status.idle": "2021-02-05T16:30:38.592224Z",
     "shell.execute_reply": "2021-02-05T16:30:38.591632Z"
    },
    "papermill": {
     "duration": 0.072899,
     "end_time": "2021-02-05T16:30:38.592386",
     "exception": false,
     "start_time": "2021-02-05T16:30:38.519487",
     "status": "completed"
    },
    "tags": []
   },
   "outputs": [
    {
     "name": "stdout",
     "output_type": "stream",
     "text": [
      "Признак - Ecology_1\tУникальных значений - 129.\n",
      "Признак - Ecology_2\tУникальных значений - 2.\n",
      "Признак - Ecology_3\tУникальных значений - 2.\n",
      "Признак - Social_1\tУникальных значений - 51.\n",
      "Признак - Social_2\tУникальных значений - 142.\n",
      "Признак - Social_3\tУникальных значений - 30.\n",
      "Признак - Healthcare_1\tУникальных значений - 79.\n",
      "Признак - Helthcare_2\tУникальных значений - 7.\n",
      "Признак - Shops_1\tУникальных значений - 16.\n",
      "Признак - Shops_2\tУникальных значений - 2.\n"
     ]
    }
   ],
   "source": [
    "for feature in df.columns[10:-1]:\n",
    "    print(f'Признак - {feature}\\tУникальных значений - {df[feature].nunique()}.')"
   ]
  },
  {
   "cell_type": "markdown",
   "metadata": {
    "papermill": {
     "duration": 0.04856,
     "end_time": "2021-02-05T16:30:38.689874",
     "exception": false,
     "start_time": "2021-02-05T16:30:38.641314",
     "status": "completed"
    },
    "tags": []
   },
   "source": [
    "Уникальных значений немного, и скорее всего они являются характеристиками района, или его части. Следовательно, пропуски в Healthcare_1 можно попробовать заполнить методом 'pad'('ffill'), отсортировав датасет по району.<br>Пропуски по жилой площади заполним аналогично, предварительно отсортировав датасет по общей площади.\n",
    "\n",
    "Так же можно трансформировать год постройки дома в более понятный возраст дома.\n",
    "\n",
    "К категориальным признакам применим метод кодирования One-Hot-Encoding\n",
    "\n",
    "Поскольку предполагается использовать в качестве модели градиентный бустинг, не будем трогать остальные признаки, надеемся, что наша модель справится."
   ]
  },
  {
   "cell_type": "markdown",
   "metadata": {
    "papermill": {
     "duration": 0.050333,
     "end_time": "2021-02-05T16:30:38.789784",
     "exception": false,
     "start_time": "2021-02-05T16:30:38.739451",
     "status": "completed"
    },
    "tags": []
   },
   "source": [
    "### 3. Подготовка данных:"
   ]
  },
  {
   "cell_type": "markdown",
   "metadata": {
    "papermill": {
     "duration": 0.050062,
     "end_time": "2021-02-05T16:30:38.889054",
     "exception": false,
     "start_time": "2021-02-05T16:30:38.838992",
     "status": "completed"
    },
    "tags": []
   },
   "source": [
    "Создадим класс FeaturesGenerator, в котором реализуем наши идеи относительно подготовки данных для модели."
   ]
  },
  {
   "cell_type": "code",
   "execution_count": 23,
   "metadata": {
    "execution": {
     "iopub.execute_input": "2021-02-05T16:30:39.009491Z",
     "iopub.status.busy": "2021-02-05T16:30:39.008656Z",
     "iopub.status.idle": "2021-02-05T16:30:39.010938Z",
     "shell.execute_reply": "2021-02-05T16:30:39.011435Z"
    },
    "papermill": {
     "duration": 0.073033,
     "end_time": "2021-02-05T16:30:39.011620",
     "exception": false,
     "start_time": "2021-02-05T16:30:38.938587",
     "status": "completed"
    },
    "tags": []
   },
   "outputs": [],
   "source": [
    "class FeaturesGenerator():\n",
    "    \n",
    "    def __init__(self):\n",
    "        \n",
    "        self.current_year=None\n",
    "        self.cat_columns=None\n",
    "        self.rsqm=None\n",
    "        self.nsqm=None\n",
    "        \n",
    "        \n",
    "    def fit(self,df):\n",
    "        \n",
    "        # Текущий год, для вычисления возраста дома\n",
    "        \n",
    "        self.current_year=datetime.datetime.now().year\n",
    "        \n",
    "        # Корректируем значения площадей, и количество комнат\n",
    "        \n",
    "        df.loc[(df.Square<1.3), 'Square']= df['Square']*100\n",
    "        df.loc[(df.Square<=13), 'Square']= df['Square']*10\n",
    "        df.loc[(df.Square>300), 'Square']= df['Square']/10\n",
    "        df.loc[((df.Rooms>6)|(df.Rooms==0)), 'Rooms']=2\n",
    "       \n",
    "        \n",
    "        # Добавляем стоимость кв.м для последующей агрегации данных в обучающей и тестовой выборках\n",
    "        \n",
    "        df.insert(1, 'SqMeterPrice',df['Price']/df['Square'])\n",
    "        \n",
    "        # Вычисляем на тесте среднюю стоимость кв.м в зависимости от к-ва комнат(для обработки пропусков в тестовом датасете),\n",
    "        # и среднюю стоимость кв.м в зависимости от района и количества комнат\n",
    "        \n",
    "        self.rsqm=df.groupby(by=['Rooms'])['SqMeterPrice'].mean().rename('RoomSqMeterPrice', inplace=True)\n",
    "        self.nsqm=df.groupby(by=['DistrictId','Rooms'])['SqMeterPrice'].mean().rename('DistSqMeterPrice', inplace=True) \n",
    "        \n",
    "        # Удаляем лишнее\n",
    "        \n",
    "        df.drop('SqMeterPrice', axis=1, inplace=True)\n",
    "        \n",
    "        # Назначаем столбцы для последующего дамми-кодирования\n",
    "        \n",
    "        self.cat_columns=df.select_dtypes('object').columns\n",
    "        \n",
    "        \n",
    "        \n",
    "    def transform(self, df):\n",
    "        \n",
    "        # Заменяем год постройки дома на возраст дома(выбросы по году постройки предварительно исправляем на текущий год)\n",
    "        \n",
    "        df.loc[(df.HouseYear>self.current_year),'HouseYear']=self.current_year-1\n",
    "        df.insert(df.columns.get_loc('HouseYear'), 'HousAge', self.current_year - df['HouseYear'])\n",
    "        df.drop('HouseYear', axis=1, inplace=True)\n",
    "       \n",
    "        # Кодируем категориальные переменные\n",
    "        \n",
    "        df=pd.get_dummies(df, columns=self.cat_columns)\n",
    "        \n",
    "        # Корректируем значения площадей в тестовом датасете\n",
    "        \n",
    "        df.loc[(df.Square<1.3), 'Square']= df['Square']*100\n",
    "        df.loc[(df.Square<=13), 'Square']= df['Square']*10\n",
    "        df.loc[(df.Square>300), 'Square']= df['Square']/10\n",
    "        \n",
    "        # Корректируем количество комнат в тестовом датасете\n",
    "        \n",
    "        df.loc[((df.Rooms>6)|(df.Rooms==0)), 'Rooms']=2\n",
    "                \n",
    "        # Обрабатываем пропуски полях Healthcare_1 и LifeSquare, заполняя их методом 'pad'\n",
    "        \n",
    "        df=df.sort_values(by='DistrictId')\n",
    "        df.Healthcare_1.fillna(method='pad',inplace=True)\n",
    "        df=df.sort_values(by='Square')\n",
    "        df.LifeSquare.fillna(method='pad',inplace=True)\n",
    "        df.sort_index(inplace=True)\n",
    "        \n",
    "        # Добавляем поле DistSqMeterPrice содержащее среднюю стоимость кв.м в зависимости от района и количества комнат\n",
    "        \n",
    "        df=df.merge(self.rsqm, how='left', on='Rooms')\n",
    "        df=df.merge(self.nsqm, how='left', on=['DistrictId', 'Rooms'])\n",
    "        df.insert(1, 'DistSqMeterPrice', df.pop('DistSqMeterPrice'))\n",
    "        \n",
    "        # Заменяем пропуски, которые получились из-за того, что в тесте и трейне есть несовпадающие по Id районы,\n",
    "        # на среднюю стоимость кв.м в зависимости от площади\n",
    "        \n",
    "        df.DistSqMeterPrice.fillna(df.RoomSqMeterPrice, inplace=True)\n",
    "        \n",
    "        # Удаляем лишнее\n",
    "        \n",
    "        df.drop('RoomSqMeterPrice', axis=1, inplace=True)\n",
    "        \n",
    "        # Переводим DistrictId, и Id в нечисловые признаки\n",
    "        \n",
    "        df['DistrictId']=df['DistrictId'].astype('object')\n",
    "        df['Id']=df['Id'].astype('object')\n",
    "        \n",
    "        return df"
   ]
  },
  {
   "cell_type": "markdown",
   "metadata": {
    "papermill": {
     "duration": 0.050506,
     "end_time": "2021-02-05T16:30:39.112422",
     "exception": false,
     "start_time": "2021-02-05T16:30:39.061916",
     "status": "completed"
    },
    "tags": []
   },
   "source": [
    "Преобразуем данные:"
   ]
  },
  {
   "cell_type": "code",
   "execution_count": 24,
   "metadata": {
    "execution": {
     "iopub.execute_input": "2021-02-05T16:30:39.216070Z",
     "iopub.status.busy": "2021-02-05T16:30:39.215381Z",
     "iopub.status.idle": "2021-02-05T16:30:39.326757Z",
     "shell.execute_reply": "2021-02-05T16:30:39.326102Z"
    },
    "papermill": {
     "duration": 0.164297,
     "end_time": "2021-02-05T16:30:39.326914",
     "exception": false,
     "start_time": "2021-02-05T16:30:39.162617",
     "status": "completed"
    },
    "tags": []
   },
   "outputs": [],
   "source": [
    "generator=FeaturesGenerator()\n",
    "generator.fit(data)\n",
    "DF=generator.transform(data)\n",
    "X_test=generator.transform(X_test)"
   ]
  },
  {
   "cell_type": "code",
   "execution_count": 25,
   "metadata": {
    "execution": {
     "iopub.execute_input": "2021-02-05T16:30:39.435558Z",
     "iopub.status.busy": "2021-02-05T16:30:39.434515Z",
     "iopub.status.idle": "2021-02-05T16:30:39.449119Z",
     "shell.execute_reply": "2021-02-05T16:30:39.448442Z"
    },
    "papermill": {
     "duration": 0.072659,
     "end_time": "2021-02-05T16:30:39.449298",
     "exception": false,
     "start_time": "2021-02-05T16:30:39.376639",
     "status": "completed"
    },
    "tags": []
   },
   "outputs": [
    {
     "name": "stdout",
     "output_type": "stream",
     "text": [
      "<class 'pandas.core.frame.DataFrame'>\n",
      "Int64Index: 10000 entries, 0 to 9999\n",
      "Data columns (total 24 columns):\n",
      " #   Column            Non-Null Count  Dtype  \n",
      "---  ------            --------------  -----  \n",
      " 0   Id                10000 non-null  object \n",
      " 1   DistSqMeterPrice  10000 non-null  float64\n",
      " 2   DistrictId        10000 non-null  object \n",
      " 3   Rooms             10000 non-null  float64\n",
      " 4   Square            10000 non-null  float64\n",
      " 5   LifeSquare        10000 non-null  float64\n",
      " 6   KitchenSquare     10000 non-null  float64\n",
      " 7   Floor             10000 non-null  int64  \n",
      " 8   HouseFloor        10000 non-null  float64\n",
      " 9   HousAge           10000 non-null  int64  \n",
      " 10  Ecology_1         10000 non-null  float64\n",
      " 11  Social_1          10000 non-null  int64  \n",
      " 12  Social_2          10000 non-null  int64  \n",
      " 13  Social_3          10000 non-null  int64  \n",
      " 14  Healthcare_1      10000 non-null  float64\n",
      " 15  Helthcare_2       10000 non-null  int64  \n",
      " 16  Shops_1           10000 non-null  int64  \n",
      " 17  Price             10000 non-null  float64\n",
      " 18  Ecology_2_A       10000 non-null  uint8  \n",
      " 19  Ecology_2_B       10000 non-null  uint8  \n",
      " 20  Ecology_3_A       10000 non-null  uint8  \n",
      " 21  Ecology_3_B       10000 non-null  uint8  \n",
      " 22  Shops_2_A         10000 non-null  uint8  \n",
      " 23  Shops_2_B         10000 non-null  uint8  \n",
      "dtypes: float64(9), int64(7), object(2), uint8(6)\n",
      "memory usage: 1.5+ MB\n"
     ]
    }
   ],
   "source": [
    "DF.info()"
   ]
  },
  {
   "cell_type": "code",
   "execution_count": 26,
   "metadata": {
    "execution": {
     "iopub.execute_input": "2021-02-05T16:30:39.556618Z",
     "iopub.status.busy": "2021-02-05T16:30:39.555684Z",
     "iopub.status.idle": "2021-02-05T16:30:39.561039Z",
     "shell.execute_reply": "2021-02-05T16:30:39.560371Z"
    },
    "papermill": {
     "duration": 0.061755,
     "end_time": "2021-02-05T16:30:39.561190",
     "exception": false,
     "start_time": "2021-02-05T16:30:39.499435",
     "status": "completed"
    },
    "tags": []
   },
   "outputs": [
    {
     "data": {
      "text/plain": [
       "((10000, 24), (5000, 23))"
      ]
     },
     "execution_count": 26,
     "metadata": {},
     "output_type": "execute_result"
    }
   ],
   "source": [
    "DF.shape, X_test.shape"
   ]
  },
  {
   "cell_type": "markdown",
   "metadata": {
    "papermill": {
     "duration": 0.053592,
     "end_time": "2021-02-05T16:30:39.666621",
     "exception": false,
     "start_time": "2021-02-05T16:30:39.613029",
     "status": "completed"
    },
    "tags": []
   },
   "source": [
    "### 4. Выбор и обучение модели"
   ]
  },
  {
   "cell_type": "markdown",
   "metadata": {
    "papermill": {
     "duration": 0.052784,
     "end_time": "2021-02-05T16:30:39.771794",
     "exception": false,
     "start_time": "2021-02-05T16:30:39.719010",
     "status": "completed"
    },
    "tags": []
   },
   "source": [
    "В качестве модели предсказания мной выбрана модель GradientBoostingRegressor из библиотеки sklearn. Такие модели хорошо справляются с немасштабированым данными, устойчивы к переобучению, находят сложные зависимости в признаках. Однако подбор параметров представляет некоторую сложность.<br>Параметры модели были подобраны при помощи GridSearchCV."
   ]
  },
  {
   "cell_type": "markdown",
   "metadata": {
    "papermill": {
     "duration": 0.051079,
     "end_time": "2021-02-05T16:30:39.874937",
     "exception": false,
     "start_time": "2021-02-05T16:30:39.823858",
     "status": "completed"
    },
    "tags": []
   },
   "source": [
    "Отделяем от датафрейма целевую переменную Price, так же удалим столбец Id который не несет смысловой нагрузки для модели."
   ]
  },
  {
   "cell_type": "code",
   "execution_count": 27,
   "metadata": {
    "execution": {
     "iopub.execute_input": "2021-02-05T16:30:39.986906Z",
     "iopub.status.busy": "2021-02-05T16:30:39.985906Z",
     "iopub.status.idle": "2021-02-05T16:30:39.988986Z",
     "shell.execute_reply": "2021-02-05T16:30:39.989747Z"
    },
    "papermill": {
     "duration": 0.064035,
     "end_time": "2021-02-05T16:30:39.989937",
     "exception": false,
     "start_time": "2021-02-05T16:30:39.925902",
     "status": "completed"
    },
    "tags": []
   },
   "outputs": [],
   "source": [
    "y_train=DF.Price\n",
    "X_train=DF.drop(['Id', 'Price'], axis=1)\n",
    "# Столбец 'Id' из тестовых данных сохраним, он будет нужен для файла с результатом\n",
    "test_idx=X_test.pop('Id')"
   ]
  },
  {
   "cell_type": "code",
   "execution_count": 28,
   "metadata": {
    "execution": {
     "iopub.execute_input": "2021-02-05T16:30:40.100649Z",
     "iopub.status.busy": "2021-02-05T16:30:40.099849Z",
     "iopub.status.idle": "2021-02-05T16:30:40.103804Z",
     "shell.execute_reply": "2021-02-05T16:30:40.103140Z"
    },
    "papermill": {
     "duration": 0.063014,
     "end_time": "2021-02-05T16:30:40.103950",
     "exception": false,
     "start_time": "2021-02-05T16:30:40.040936",
     "status": "completed"
    },
    "tags": []
   },
   "outputs": [
    {
     "data": {
      "text/plain": [
       "((10000, 22), (5000, 22), (10000,))"
      ]
     },
     "execution_count": 28,
     "metadata": {},
     "output_type": "execute_result"
    }
   ],
   "source": [
    "X_train.shape, X_test.shape, y_train.shape"
   ]
  },
  {
   "cell_type": "code",
   "execution_count": 29,
   "metadata": {
    "execution": {
     "iopub.execute_input": "2021-02-05T16:30:40.217483Z",
     "iopub.status.busy": "2021-02-05T16:30:40.216698Z",
     "iopub.status.idle": "2021-02-05T16:30:54.294796Z",
     "shell.execute_reply": "2021-02-05T16:30:54.295532Z"
    },
    "papermill": {
     "duration": 14.138063,
     "end_time": "2021-02-05T16:30:54.295775",
     "exception": false,
     "start_time": "2021-02-05T16:30:40.157712",
     "status": "completed"
    },
    "tags": []
   },
   "outputs": [
    {
     "name": "stdout",
     "output_type": "stream",
     "text": [
      "CPU times: user 14.1 s, sys: 9.96 ms, total: 14.1 s\n",
      "Wall time: 14.1 s\n"
     ]
    }
   ],
   "source": [
    "%%time\n",
    "from sklearn.ensemble import GradientBoostingRegressor\n",
    "model=GradientBoostingRegressor(learning_rate=0.02, max_depth=5, max_features=0.5, n_estimators=700, random_state=24 )\n",
    "model.fit(X_train, y_train)\n",
    "pred=model.predict(X_test)\n"
   ]
  },
  {
   "cell_type": "markdown",
   "metadata": {
    "papermill": {
     "duration": 0.053618,
     "end_time": "2021-02-05T16:30:54.403330",
     "exception": false,
     "start_time": "2021-02-05T16:30:54.349712",
     "status": "completed"
    },
    "tags": []
   },
   "source": [
    "Скор модели на обучающей выборке:"
   ]
  },
  {
   "cell_type": "code",
   "execution_count": 30,
   "metadata": {
    "execution": {
     "iopub.execute_input": "2021-02-05T16:30:54.522373Z",
     "iopub.status.busy": "2021-02-05T16:30:54.516385Z",
     "iopub.status.idle": "2021-02-05T16:30:54.738863Z",
     "shell.execute_reply": "2021-02-05T16:30:54.739405Z"
    },
    "papermill": {
     "duration": 0.283131,
     "end_time": "2021-02-05T16:30:54.739577",
     "exception": false,
     "start_time": "2021-02-05T16:30:54.456446",
     "status": "completed"
    },
    "tags": []
   },
   "outputs": [
    {
     "data": {
      "text/plain": [
       "0.877005513469941"
      ]
     },
     "execution_count": 30,
     "metadata": {},
     "output_type": "execute_result"
    }
   ],
   "source": [
    "model.score(X_train,y_train)"
   ]
  },
  {
   "cell_type": "markdown",
   "metadata": {
    "papermill": {
     "duration": 0.052525,
     "end_time": "2021-02-05T16:30:54.845558",
     "exception": false,
     "start_time": "2021-02-05T16:30:54.793033",
     "status": "completed"
    },
    "tags": []
   },
   "source": [
    "Посмотрим на предсказания:"
   ]
  },
  {
   "cell_type": "code",
   "execution_count": 31,
   "metadata": {
    "execution": {
     "iopub.execute_input": "2021-02-05T16:30:54.958410Z",
     "iopub.status.busy": "2021-02-05T16:30:54.957170Z",
     "iopub.status.idle": "2021-02-05T16:30:56.903507Z",
     "shell.execute_reply": "2021-02-05T16:30:56.902950Z"
    },
    "papermill": {
     "duration": 2.006317,
     "end_time": "2021-02-05T16:30:56.903667",
     "exception": false,
     "start_time": "2021-02-05T16:30:54.897350",
     "status": "completed"
    },
    "tags": []
   },
   "outputs": [
    {
     "data": {
      "image/png": "[encoded data removed]",
      "text/plain": [
       "<Figure size 864x864 with 3 Axes>"
      ]
     },
     "metadata": {
      "needs_background": "light"
     },
     "output_type": "display_data"
    }
   ],
   "source": [
    "sns.jointplot(x=model.predict(X_train), y=y_train, kind='reg', height=12)\n",
    "plt.show()"
   ]
  },
  {
   "cell_type": "markdown",
   "metadata": {
    "papermill": {
     "duration": 0.057917,
     "end_time": "2021-02-05T16:30:57.018560",
     "exception": false,
     "start_time": "2021-02-05T16:30:56.960643",
     "status": "completed"
    },
    "tags": []
   },
   "source": [
    "Видим неприятный хвост в районе 70000-90000, модель завышает стоимость квартир со стоимостью от 70000 до 90000."
   ]
  },
  {
   "cell_type": "markdown",
   "metadata": {
    "papermill": {
     "duration": 0.057872,
     "end_time": "2021-02-05T16:30:57.134010",
     "exception": false,
     "start_time": "2021-02-05T16:30:57.076138",
     "status": "completed"
    },
    "tags": []
   },
   "source": [
    "Посмотрим, какие признаки модель сочла значимыми:"
   ]
  },
  {
   "cell_type": "code",
   "execution_count": 32,
   "metadata": {
    "execution": {
     "iopub.execute_input": "2021-02-05T16:30:57.257830Z",
     "iopub.status.busy": "2021-02-05T16:30:57.257014Z",
     "iopub.status.idle": "2021-02-05T16:30:57.563523Z",
     "shell.execute_reply": "2021-02-05T16:30:57.562704Z"
    },
    "papermill": {
     "duration": 0.371552,
     "end_time": "2021-02-05T16:30:57.563682",
     "exception": false,
     "start_time": "2021-02-05T16:30:57.192130",
     "status": "completed"
    },
    "tags": []
   },
   "outputs": [
    {
     "data": {
      "image/png": "[encoded data removed]",
      "text/plain": [
       "<Figure size 1152x576 with 1 Axes>"
      ]
     },
     "metadata": {
      "needs_background": "light"
     },
     "output_type": "display_data"
    }
   ],
   "source": [
    "plt.figure(figsize=(16,8))\n",
    "plt.barh(X_train.columns.tolist(), model.feature_importances_)\n",
    "plt.xlabel('Вес признака')\n",
    "plt.ylabel('Признак')\n",
    "plt.show()"
   ]
  },
  {
   "cell_type": "markdown",
   "metadata": {
    "papermill": {
     "duration": 0.057688,
     "end_time": "2021-02-05T16:30:57.680110",
     "exception": false,
     "start_time": "2021-02-05T16:30:57.622422",
     "status": "completed"
    },
    "tags": []
   },
   "source": [
    "### 5. Загрузка результата"
   ]
  },
  {
   "cell_type": "code",
   "execution_count": 33,
   "metadata": {
    "execution": {
     "iopub.execute_input": "2021-02-05T16:30:57.809532Z",
     "iopub.status.busy": "2021-02-05T16:30:57.808567Z",
     "iopub.status.idle": "2021-02-05T16:30:57.813701Z",
     "shell.execute_reply": "2021-02-05T16:30:57.813046Z"
    },
    "papermill": {
     "duration": 0.075488,
     "end_time": "2021-02-05T16:30:57.813849",
     "exception": false,
     "start_time": "2021-02-05T16:30:57.738361",
     "status": "completed"
    },
    "tags": []
   },
   "outputs": [
    {
     "data": {
      "text/html": [
       "<div>\n",
       "<style scoped>\n",
       "    .dataframe tbody tr th:only-of-type {\n",
       "        vertical-align: middle;\n",
       "    }\n",
       "\n",
       "    .dataframe tbody tr th {\n",
       "        vertical-align: top;\n",
       "    }\n",
       "\n",
       "    .dataframe thead th {\n",
       "        text-align: right;\n",
       "    }\n",
       "</style>\n",
       "<table border=\"1\" class=\"dataframe\">\n",
       "  <thead>\n",
       "    <tr style=\"text-align: right;\">\n",
       "      <th></th>\n",
       "      <th>Id</th>\n",
       "      <th>Price</th>\n",
       "    </tr>\n",
       "  </thead>\n",
       "  <tbody>\n",
       "    <tr>\n",
       "      <th>0</th>\n",
       "      <td>725</td>\n",
       "      <td>154045.087385</td>\n",
       "    </tr>\n",
       "    <tr>\n",
       "      <th>1</th>\n",
       "      <td>15856</td>\n",
       "      <td>208734.181862</td>\n",
       "    </tr>\n",
       "    <tr>\n",
       "      <th>2</th>\n",
       "      <td>5480</td>\n",
       "      <td>65477.229682</td>\n",
       "    </tr>\n",
       "    <tr>\n",
       "      <th>3</th>\n",
       "      <td>15664</td>\n",
       "      <td>308447.303429</td>\n",
       "    </tr>\n",
       "    <tr>\n",
       "      <th>4</th>\n",
       "      <td>14275</td>\n",
       "      <td>140005.061992</td>\n",
       "    </tr>\n",
       "  </tbody>\n",
       "</table>\n",
       "</div>"
      ],
      "text/plain": [
       "      Id          Price\n",
       "0    725  154045.087385\n",
       "1  15856  208734.181862\n",
       "2   5480   65477.229682\n",
       "3  15664  308447.303429\n",
       "4  14275  140005.061992"
      ]
     },
     "execution_count": 33,
     "metadata": {},
     "output_type": "execute_result"
    }
   ],
   "source": [
    "result=pd.DataFrame({'Id':test_idx, 'Price':pred})\n",
    "result.head()"
   ]
  },
  {
   "cell_type": "code",
   "execution_count": 34,
   "metadata": {
    "execution": {
     "iopub.execute_input": "2021-02-05T16:30:57.937575Z",
     "iopub.status.busy": "2021-02-05T16:30:57.936872Z",
     "iopub.status.idle": "2021-02-05T16:30:57.964444Z",
     "shell.execute_reply": "2021-02-05T16:30:57.963785Z"
    },
    "papermill": {
     "duration": 0.091259,
     "end_time": "2021-02-05T16:30:57.964595",
     "exception": false,
     "start_time": "2021-02-05T16:30:57.873336",
     "status": "completed"
    },
    "tags": []
   },
   "outputs": [],
   "source": [
    "result.to_csv(RESULT_PATH, index=False)"
   ]
  }
 ],
 "metadata": {
  "kernelspec": {
   "display_name": "Python 3",
   "language": "python",
   "name": "python3"
  },
  "language_info": {
   "codemirror_mode": {
    "name": "ipython",
    "version": 3
   },
   "file_extension": ".py",
   "mimetype": "text/x-python",
   "name": "python",
   "nbconvert_exporter": "python",
   "pygments_lexer": "ipython3",
   "version": "3.7.9"
  },
  "papermill": {
   "default_parameters": {},
   "duration": 37.032465,
   "end_time": "2021-02-05T16:30:58.744876",
   "environment_variables": {},
   "exception": null,
   "input_path": "__notebook__.ipynb",
   "output_path": "__notebook__.ipynb",
   "parameters": {},
   "start_time": "2021-02-05T16:30:21.712411",
   "version": "2.2.2"
  }
 },
 "nbformat": 4,
 "nbformat_minor": 4
}
